{
 "cells": [
  {
   "cell_type": "markdown",
   "id": "77322ebe",
   "metadata": {},
   "source": [
    "## Introduction "
   ]
  },
  {
   "cell_type": "markdown",
   "id": "1105d68e",
   "metadata": {},
   "source": [
    "- Walmart Inc. is an American multinational retail corporation that operates a chain of hypermarkets (also called supercenters), discount department stores, and grocery stores in the United States, headquartered in Bentonville, Arkansas.The company was founded by Sam Walton and James \"Bud\" Walton in nearby Rogers, Arkansas in 1962 and incorporated under Delaware General Corporation Law on October 31, 1969. It also owns and operates Sam's Club retail warehouses."
   ]
  },
  {
   "cell_type": "markdown",
   "id": "87d2e2b4",
   "metadata": {},
   "source": [
    "## Aim of Walmart Sales Forecasting"
   ]
  },
  {
   "cell_type": "markdown",
   "id": "110ffbc7",
   "metadata": {},
   "source": [
    "- Sales forecasting or predicting the future is very important for every business. It is used for companies to making plans for high revenue, keep costs lower and high efficiency.  Companies made short-term and long term future planning as per forecasting data. Based on past data with some assumption which predict future trends and draw their budget accordingly.\n",
    "\n",
    "- There are many factors like Market changes, Product changes, Economic conditions, season changes, etc; which impact to forecast of sales. Companies can make a plane to meet future demands and make improvements in their sales by keeping in mind these various factors."
   ]
  },
  {
   "cell_type": "markdown",
   "id": "0509b4a8",
   "metadata": {},
   "source": [
    "## Dataset Overview"
   ]
  },
  {
   "cell_type": "markdown",
   "id": "46465b63",
   "metadata": {},
   "source": [
    "- This data set is available on the kaggle website. These data sets contained information about the stores, departments, temperature, unemployment, CPI, isHoliday, and MarkDowns.\n",
    "- The data collected ranges from 2010 to 2012, where 45 Walmart stores across the country were included in this analysis. Each store contains several departments, and we are tasked with predicting the department-wide sales for each store. It is important to note that we also have external data available like CPI, Unemployment Rate and Fuel Prices in the region of each stores."
   ]
  },
  {
   "cell_type": "markdown",
   "id": "544ca865",
   "metadata": {},
   "source": [
    "## Datasets"
   ]
  },
  {
   "cell_type": "markdown",
   "id": "a6291aa0",
   "metadata": {},
   "source": [
    "- Walmart Recruiting - Store Sales Forecasting downloaded from https://www.kaggle.com/c/walmart-recruiting-store-sales-forecasting"
   ]
  },
  {
   "cell_type": "markdown",
   "id": "b7cd1b43",
   "metadata": {},
   "source": [
    "# Datatypes of features\n",
    "- Nominal Data = Nominal data is one of the types of qualitative information which helps to label the variables without providing the numerical value. Nominal data is also called the nominal scale\n",
    "- Odinal Data = Ordinal data/variable is a type of data that follows a natural order. The significant feature of the nominal data is that the difference between the data values is not determined\n",
    "- Discrete Data = Discrete data can take only discrete values. Discrete information contains only a finite number of possible values.\n",
    "- Continuous Data = Continuous data is data that can be calculated. It has an infinite number of probable values that can be selected within a given specific range.\n",
    "- Binary Data =In statistics, binary data is a statistical data type consisting of categorical data that can take exactly two possible values, such as \"A\" and \"B\", or \"heads\" and \"tails\""
   ]
  },
  {
   "cell_type": "markdown",
   "id": "353dc82e",
   "metadata": {},
   "source": [
    "### train.csv - CSV Data file containing following attributes\n",
    "- Store\n",
    "- Dept\n",
    "- Date\n",
    "- Weekly_Sales\n",
    "- IsHoliday\n",
    "- 115064 Data rows\n",
    "### stores.csv - CSV Data File containing following attributes\n",
    "- Store\n",
    "- Type\n",
    "- Size\n",
    "- 45 Data rows\n",
    "### features.csv - CSV Data file containing following attributes\n",
    "- Store\n",
    "- Date\n",
    "- Temperature\n",
    "- Fuel_Price\n",
    "- MarkDown1\n",
    "- MarkDown2\n",
    "- MarkDown3\n",
    "- MarkDown4\n",
    "- MarkDown5\n",
    "- CPI\n",
    "- Unemployment\n",
    "- IsHoliday\n",
    "- 8190 Data rows"
   ]
  },
  {
   "cell_type": "markdown",
   "id": "a780f3a7",
   "metadata": {},
   "source": [
    "## Objective"
   ]
  },
  {
   "cell_type": "markdown",
   "id": "3b551209",
   "metadata": {},
   "source": [
    "- Predict the sales for each department using historical markdown data from the Walmart dataset containing data of 45 Walmart stores.\n",
    "- The purpose of this project is to develop a predictive model and find out the sales of each product at a given Walmart store. \n",
    "- Predict which departments are affected with the holiday markdown events and the extent of impact.\n",
    "- Perform dimensionality reduction to improve prediction error by shrinkage in order to reduce overfitting."
   ]
  },
  {
   "cell_type": "markdown",
   "id": "a15ee2f9",
   "metadata": {},
   "source": [
    "# Data Analysis"
   ]
  },
  {
   "cell_type": "markdown",
   "id": "c04be695",
   "metadata": {},
   "source": [
    "### 1)Importing Libraries"
   ]
  },
  {
   "cell_type": "code",
   "execution_count": 1,
   "id": "0150a67b",
   "metadata": {},
   "outputs": [],
   "source": [
    "import numpy as np\n",
    "import pandas as pd\n",
    "import matplotlib.pyplot as plt\n",
    "import seaborn as sns\n",
    "import warnings\n",
    "warnings.filterwarnings('ignore')"
   ]
  },
  {
   "cell_type": "markdown",
   "id": "cf646c69",
   "metadata": {},
   "source": [
    "# Data Wrangling"
   ]
  },
  {
   "cell_type": "markdown",
   "id": "bca975ca",
   "metadata": {},
   "source": [
    "## 2)Load Datasets"
   ]
  },
  {
   "cell_type": "code",
   "execution_count": 2,
   "id": "6316ae97",
   "metadata": {},
   "outputs": [],
   "source": [
    "#Getting data from csv\n",
    "features=pd.read_csv(\"features1.csv\")\n",
    "store=pd.read_csv(\"stores1.csv\")\n",
    "train=pd.read_csv(\"train1.csv\")"
   ]
  },
  {
   "cell_type": "markdown",
   "id": "7cec8151",
   "metadata": {},
   "source": [
    "##  3)Processing and merging datasets"
   ]
  },
  {
   "cell_type": "code",
   "execution_count": 3,
   "id": "ac3d83b5",
   "metadata": {},
   "outputs": [
    {
     "data": {
      "text/plain": [
       "(8190, 12)"
      ]
     },
     "execution_count": 3,
     "metadata": {},
     "output_type": "execute_result"
    }
   ],
   "source": [
    "features.shape"
   ]
  },
  {
   "cell_type": "markdown",
   "id": "7a3236fa",
   "metadata": {},
   "source": [
    "#### Observation=This dataset consist of records 8190 and Features 12"
   ]
  },
  {
   "cell_type": "code",
   "execution_count": 4,
   "id": "1b0e7d19",
   "metadata": {},
   "outputs": [
    {
     "data": {
      "text/html": [
       "<div>\n",
       "<style scoped>\n",
       "    .dataframe tbody tr th:only-of-type {\n",
       "        vertical-align: middle;\n",
       "    }\n",
       "\n",
       "    .dataframe tbody tr th {\n",
       "        vertical-align: top;\n",
       "    }\n",
       "\n",
       "    .dataframe thead th {\n",
       "        text-align: right;\n",
       "    }\n",
       "</style>\n",
       "<table border=\"1\" class=\"dataframe\">\n",
       "  <thead>\n",
       "    <tr style=\"text-align: right;\">\n",
       "      <th></th>\n",
       "      <th>Store</th>\n",
       "      <th>Date</th>\n",
       "      <th>Temperature</th>\n",
       "      <th>Fuel_Price</th>\n",
       "      <th>MarkDown1</th>\n",
       "      <th>MarkDown2</th>\n",
       "      <th>MarkDown3</th>\n",
       "      <th>MarkDown4</th>\n",
       "      <th>MarkDown5</th>\n",
       "      <th>CPI</th>\n",
       "      <th>Unemployment</th>\n",
       "      <th>IsHoliday</th>\n",
       "    </tr>\n",
       "  </thead>\n",
       "  <tbody>\n",
       "    <tr>\n",
       "      <th>0</th>\n",
       "      <td>1</td>\n",
       "      <td>05-02-2010</td>\n",
       "      <td>42.31</td>\n",
       "      <td>2.572</td>\n",
       "      <td>NaN</td>\n",
       "      <td>NaN</td>\n",
       "      <td>NaN</td>\n",
       "      <td>NaN</td>\n",
       "      <td>NaN</td>\n",
       "      <td>211.096358</td>\n",
       "      <td>8.106</td>\n",
       "      <td>False</td>\n",
       "    </tr>\n",
       "    <tr>\n",
       "      <th>1</th>\n",
       "      <td>1</td>\n",
       "      <td>12-02-2010</td>\n",
       "      <td>38.51</td>\n",
       "      <td>2.548</td>\n",
       "      <td>NaN</td>\n",
       "      <td>NaN</td>\n",
       "      <td>NaN</td>\n",
       "      <td>NaN</td>\n",
       "      <td>NaN</td>\n",
       "      <td>211.242170</td>\n",
       "      <td>8.106</td>\n",
       "      <td>True</td>\n",
       "    </tr>\n",
       "    <tr>\n",
       "      <th>2</th>\n",
       "      <td>1</td>\n",
       "      <td>19-02-2010</td>\n",
       "      <td>39.93</td>\n",
       "      <td>2.514</td>\n",
       "      <td>NaN</td>\n",
       "      <td>NaN</td>\n",
       "      <td>NaN</td>\n",
       "      <td>NaN</td>\n",
       "      <td>NaN</td>\n",
       "      <td>211.289143</td>\n",
       "      <td>8.106</td>\n",
       "      <td>False</td>\n",
       "    </tr>\n",
       "    <tr>\n",
       "      <th>3</th>\n",
       "      <td>1</td>\n",
       "      <td>26-02-2010</td>\n",
       "      <td>46.63</td>\n",
       "      <td>2.561</td>\n",
       "      <td>NaN</td>\n",
       "      <td>NaN</td>\n",
       "      <td>NaN</td>\n",
       "      <td>NaN</td>\n",
       "      <td>NaN</td>\n",
       "      <td>211.319643</td>\n",
       "      <td>8.106</td>\n",
       "      <td>False</td>\n",
       "    </tr>\n",
       "    <tr>\n",
       "      <th>4</th>\n",
       "      <td>1</td>\n",
       "      <td>05-03-2010</td>\n",
       "      <td>46.50</td>\n",
       "      <td>2.625</td>\n",
       "      <td>NaN</td>\n",
       "      <td>NaN</td>\n",
       "      <td>NaN</td>\n",
       "      <td>NaN</td>\n",
       "      <td>NaN</td>\n",
       "      <td>211.350143</td>\n",
       "      <td>8.106</td>\n",
       "      <td>False</td>\n",
       "    </tr>\n",
       "  </tbody>\n",
       "</table>\n",
       "</div>"
      ],
      "text/plain": [
       "   Store        Date  Temperature  Fuel_Price  MarkDown1  MarkDown2  \\\n",
       "0      1  05-02-2010        42.31       2.572        NaN        NaN   \n",
       "1      1  12-02-2010        38.51       2.548        NaN        NaN   \n",
       "2      1  19-02-2010        39.93       2.514        NaN        NaN   \n",
       "3      1  26-02-2010        46.63       2.561        NaN        NaN   \n",
       "4      1  05-03-2010        46.50       2.625        NaN        NaN   \n",
       "\n",
       "   MarkDown3  MarkDown4  MarkDown5         CPI  Unemployment  IsHoliday  \n",
       "0        NaN        NaN        NaN  211.096358         8.106      False  \n",
       "1        NaN        NaN        NaN  211.242170         8.106       True  \n",
       "2        NaN        NaN        NaN  211.289143         8.106      False  \n",
       "3        NaN        NaN        NaN  211.319643         8.106      False  \n",
       "4        NaN        NaN        NaN  211.350143         8.106      False  "
      ]
     },
     "execution_count": 4,
     "metadata": {},
     "output_type": "execute_result"
    }
   ],
   "source": [
    "features.head()"
   ]
  },
  {
   "cell_type": "markdown",
   "id": "0541714d",
   "metadata": {},
   "source": [
    "#### Observation= Checking top five values"
   ]
  },
  {
   "cell_type": "code",
   "execution_count": 5,
   "id": "67255114",
   "metadata": {},
   "outputs": [
    {
     "data": {
      "text/html": [
       "<div>\n",
       "<style scoped>\n",
       "    .dataframe tbody tr th:only-of-type {\n",
       "        vertical-align: middle;\n",
       "    }\n",
       "\n",
       "    .dataframe tbody tr th {\n",
       "        vertical-align: top;\n",
       "    }\n",
       "\n",
       "    .dataframe thead th {\n",
       "        text-align: right;\n",
       "    }\n",
       "</style>\n",
       "<table border=\"1\" class=\"dataframe\">\n",
       "  <thead>\n",
       "    <tr style=\"text-align: right;\">\n",
       "      <th></th>\n",
       "      <th>Store</th>\n",
       "      <th>Date</th>\n",
       "      <th>Temperature</th>\n",
       "      <th>Fuel_Price</th>\n",
       "      <th>MarkDown1</th>\n",
       "      <th>MarkDown2</th>\n",
       "      <th>MarkDown3</th>\n",
       "      <th>MarkDown4</th>\n",
       "      <th>MarkDown5</th>\n",
       "      <th>CPI</th>\n",
       "      <th>Unemployment</th>\n",
       "      <th>IsHoliday</th>\n",
       "    </tr>\n",
       "  </thead>\n",
       "  <tbody>\n",
       "    <tr>\n",
       "      <th>8185</th>\n",
       "      <td>45</td>\n",
       "      <td>28-06-2013</td>\n",
       "      <td>76.05</td>\n",
       "      <td>3.639</td>\n",
       "      <td>4842.29</td>\n",
       "      <td>975.03</td>\n",
       "      <td>3.00</td>\n",
       "      <td>2449.97</td>\n",
       "      <td>3169.69</td>\n",
       "      <td>NaN</td>\n",
       "      <td>NaN</td>\n",
       "      <td>False</td>\n",
       "    </tr>\n",
       "    <tr>\n",
       "      <th>8186</th>\n",
       "      <td>45</td>\n",
       "      <td>05-07-2013</td>\n",
       "      <td>77.50</td>\n",
       "      <td>3.614</td>\n",
       "      <td>9090.48</td>\n",
       "      <td>2268.58</td>\n",
       "      <td>582.74</td>\n",
       "      <td>5797.47</td>\n",
       "      <td>1514.93</td>\n",
       "      <td>NaN</td>\n",
       "      <td>NaN</td>\n",
       "      <td>False</td>\n",
       "    </tr>\n",
       "    <tr>\n",
       "      <th>8187</th>\n",
       "      <td>45</td>\n",
       "      <td>12-07-2013</td>\n",
       "      <td>79.37</td>\n",
       "      <td>3.614</td>\n",
       "      <td>3789.94</td>\n",
       "      <td>1827.31</td>\n",
       "      <td>85.72</td>\n",
       "      <td>744.84</td>\n",
       "      <td>2150.36</td>\n",
       "      <td>NaN</td>\n",
       "      <td>NaN</td>\n",
       "      <td>False</td>\n",
       "    </tr>\n",
       "    <tr>\n",
       "      <th>8188</th>\n",
       "      <td>45</td>\n",
       "      <td>19-07-2013</td>\n",
       "      <td>82.84</td>\n",
       "      <td>3.737</td>\n",
       "      <td>2961.49</td>\n",
       "      <td>1047.07</td>\n",
       "      <td>204.19</td>\n",
       "      <td>363.00</td>\n",
       "      <td>1059.46</td>\n",
       "      <td>NaN</td>\n",
       "      <td>NaN</td>\n",
       "      <td>False</td>\n",
       "    </tr>\n",
       "    <tr>\n",
       "      <th>8189</th>\n",
       "      <td>45</td>\n",
       "      <td>26-07-2013</td>\n",
       "      <td>76.06</td>\n",
       "      <td>3.804</td>\n",
       "      <td>212.02</td>\n",
       "      <td>851.73</td>\n",
       "      <td>2.06</td>\n",
       "      <td>10.88</td>\n",
       "      <td>1864.57</td>\n",
       "      <td>NaN</td>\n",
       "      <td>NaN</td>\n",
       "      <td>False</td>\n",
       "    </tr>\n",
       "  </tbody>\n",
       "</table>\n",
       "</div>"
      ],
      "text/plain": [
       "      Store        Date  Temperature  Fuel_Price  MarkDown1  MarkDown2  \\\n",
       "8185     45  28-06-2013        76.05       3.639    4842.29     975.03   \n",
       "8186     45  05-07-2013        77.50       3.614    9090.48    2268.58   \n",
       "8187     45  12-07-2013        79.37       3.614    3789.94    1827.31   \n",
       "8188     45  19-07-2013        82.84       3.737    2961.49    1047.07   \n",
       "8189     45  26-07-2013        76.06       3.804     212.02     851.73   \n",
       "\n",
       "      MarkDown3  MarkDown4  MarkDown5  CPI  Unemployment  IsHoliday  \n",
       "8185       3.00    2449.97    3169.69  NaN           NaN      False  \n",
       "8186     582.74    5797.47    1514.93  NaN           NaN      False  \n",
       "8187      85.72     744.84    2150.36  NaN           NaN      False  \n",
       "8188     204.19     363.00    1059.46  NaN           NaN      False  \n",
       "8189       2.06      10.88    1864.57  NaN           NaN      False  "
      ]
     },
     "execution_count": 5,
     "metadata": {},
     "output_type": "execute_result"
    }
   ],
   "source": [
    "features.tail()"
   ]
  },
  {
   "cell_type": "markdown",
   "id": "b9d30e97",
   "metadata": {},
   "source": [
    "#### Observation= Checking last five values"
   ]
  },
  {
   "cell_type": "code",
   "execution_count": 6,
   "id": "f72cc9ee",
   "metadata": {},
   "outputs": [
    {
     "name": "stdout",
     "output_type": "stream",
     "text": [
      "<class 'pandas.core.frame.DataFrame'>\n",
      "RangeIndex: 8190 entries, 0 to 8189\n",
      "Data columns (total 12 columns):\n",
      " #   Column        Non-Null Count  Dtype  \n",
      "---  ------        --------------  -----  \n",
      " 0   Store         8190 non-null   int64  \n",
      " 1   Date          8190 non-null   object \n",
      " 2   Temperature   8190 non-null   float64\n",
      " 3   Fuel_Price    8190 non-null   float64\n",
      " 4   MarkDown1     4032 non-null   float64\n",
      " 5   MarkDown2     2921 non-null   float64\n",
      " 6   MarkDown3     3613 non-null   float64\n",
      " 7   MarkDown4     3464 non-null   float64\n",
      " 8   MarkDown5     4050 non-null   float64\n",
      " 9   CPI           7605 non-null   float64\n",
      " 10  Unemployment  7605 non-null   float64\n",
      " 11  IsHoliday     8190 non-null   bool   \n",
      "dtypes: bool(1), float64(9), int64(1), object(1)\n",
      "memory usage: 712.0+ KB\n"
     ]
    }
   ],
   "source": [
    "features.info()"
   ]
  },
  {
   "cell_type": "markdown",
   "id": "a15f4d76",
   "metadata": {},
   "source": [
    "#### Observation= Checking information of dataset"
   ]
  },
  {
   "cell_type": "markdown",
   "id": "19a8a4e9",
   "metadata": {},
   "source": [
    "### Training Dataset"
   ]
  },
  {
   "cell_type": "code",
   "execution_count": 7,
   "id": "99cdd059",
   "metadata": {},
   "outputs": [
    {
     "data": {
      "text/plain": [
       "(421570, 5)"
      ]
     },
     "execution_count": 7,
     "metadata": {},
     "output_type": "execute_result"
    }
   ],
   "source": [
    "train.shape"
   ]
  },
  {
   "cell_type": "markdown",
   "id": "99b84a72",
   "metadata": {},
   "source": [
    "#### Observation=This dataset consist of records 421570 and Features 5"
   ]
  },
  {
   "cell_type": "code",
   "execution_count": 8,
   "id": "7000a98e",
   "metadata": {},
   "outputs": [
    {
     "data": {
      "text/html": [
       "<div>\n",
       "<style scoped>\n",
       "    .dataframe tbody tr th:only-of-type {\n",
       "        vertical-align: middle;\n",
       "    }\n",
       "\n",
       "    .dataframe tbody tr th {\n",
       "        vertical-align: top;\n",
       "    }\n",
       "\n",
       "    .dataframe thead th {\n",
       "        text-align: right;\n",
       "    }\n",
       "</style>\n",
       "<table border=\"1\" class=\"dataframe\">\n",
       "  <thead>\n",
       "    <tr style=\"text-align: right;\">\n",
       "      <th></th>\n",
       "      <th>Store</th>\n",
       "      <th>Dept</th>\n",
       "      <th>Date</th>\n",
       "      <th>Weekly_Sales</th>\n",
       "      <th>IsHoliday</th>\n",
       "    </tr>\n",
       "  </thead>\n",
       "  <tbody>\n",
       "    <tr>\n",
       "      <th>0</th>\n",
       "      <td>1</td>\n",
       "      <td>1</td>\n",
       "      <td>05-02-2010</td>\n",
       "      <td>24924.50</td>\n",
       "      <td>False</td>\n",
       "    </tr>\n",
       "    <tr>\n",
       "      <th>1</th>\n",
       "      <td>1</td>\n",
       "      <td>1</td>\n",
       "      <td>12-02-2010</td>\n",
       "      <td>46039.49</td>\n",
       "      <td>True</td>\n",
       "    </tr>\n",
       "    <tr>\n",
       "      <th>2</th>\n",
       "      <td>1</td>\n",
       "      <td>1</td>\n",
       "      <td>19-02-2010</td>\n",
       "      <td>41595.55</td>\n",
       "      <td>False</td>\n",
       "    </tr>\n",
       "    <tr>\n",
       "      <th>3</th>\n",
       "      <td>1</td>\n",
       "      <td>1</td>\n",
       "      <td>26-02-2010</td>\n",
       "      <td>19403.54</td>\n",
       "      <td>False</td>\n",
       "    </tr>\n",
       "    <tr>\n",
       "      <th>4</th>\n",
       "      <td>1</td>\n",
       "      <td>1</td>\n",
       "      <td>05-03-2010</td>\n",
       "      <td>21827.90</td>\n",
       "      <td>False</td>\n",
       "    </tr>\n",
       "  </tbody>\n",
       "</table>\n",
       "</div>"
      ],
      "text/plain": [
       "   Store  Dept        Date  Weekly_Sales  IsHoliday\n",
       "0      1     1  05-02-2010      24924.50      False\n",
       "1      1     1  12-02-2010      46039.49       True\n",
       "2      1     1  19-02-2010      41595.55      False\n",
       "3      1     1  26-02-2010      19403.54      False\n",
       "4      1     1  05-03-2010      21827.90      False"
      ]
     },
     "execution_count": 8,
     "metadata": {},
     "output_type": "execute_result"
    }
   ],
   "source": [
    "train.head()"
   ]
  },
  {
   "cell_type": "code",
   "execution_count": 9,
   "id": "9008ad20",
   "metadata": {},
   "outputs": [
    {
     "data": {
      "text/html": [
       "<div>\n",
       "<style scoped>\n",
       "    .dataframe tbody tr th:only-of-type {\n",
       "        vertical-align: middle;\n",
       "    }\n",
       "\n",
       "    .dataframe tbody tr th {\n",
       "        vertical-align: top;\n",
       "    }\n",
       "\n",
       "    .dataframe thead th {\n",
       "        text-align: right;\n",
       "    }\n",
       "</style>\n",
       "<table border=\"1\" class=\"dataframe\">\n",
       "  <thead>\n",
       "    <tr style=\"text-align: right;\">\n",
       "      <th></th>\n",
       "      <th>Store</th>\n",
       "      <th>Dept</th>\n",
       "      <th>Date</th>\n",
       "      <th>Weekly_Sales</th>\n",
       "      <th>IsHoliday</th>\n",
       "    </tr>\n",
       "  </thead>\n",
       "  <tbody>\n",
       "    <tr>\n",
       "      <th>421565</th>\n",
       "      <td>45</td>\n",
       "      <td>98</td>\n",
       "      <td>28-09-2012</td>\n",
       "      <td>508.37</td>\n",
       "      <td>False</td>\n",
       "    </tr>\n",
       "    <tr>\n",
       "      <th>421566</th>\n",
       "      <td>45</td>\n",
       "      <td>98</td>\n",
       "      <td>05-10-2012</td>\n",
       "      <td>628.10</td>\n",
       "      <td>False</td>\n",
       "    </tr>\n",
       "    <tr>\n",
       "      <th>421567</th>\n",
       "      <td>45</td>\n",
       "      <td>98</td>\n",
       "      <td>12-10-2012</td>\n",
       "      <td>1061.02</td>\n",
       "      <td>False</td>\n",
       "    </tr>\n",
       "    <tr>\n",
       "      <th>421568</th>\n",
       "      <td>45</td>\n",
       "      <td>98</td>\n",
       "      <td>19-10-2012</td>\n",
       "      <td>760.01</td>\n",
       "      <td>False</td>\n",
       "    </tr>\n",
       "    <tr>\n",
       "      <th>421569</th>\n",
       "      <td>45</td>\n",
       "      <td>98</td>\n",
       "      <td>26-10-2012</td>\n",
       "      <td>1076.80</td>\n",
       "      <td>False</td>\n",
       "    </tr>\n",
       "  </tbody>\n",
       "</table>\n",
       "</div>"
      ],
      "text/plain": [
       "        Store  Dept        Date  Weekly_Sales  IsHoliday\n",
       "421565     45    98  28-09-2012        508.37      False\n",
       "421566     45    98  05-10-2012        628.10      False\n",
       "421567     45    98  12-10-2012       1061.02      False\n",
       "421568     45    98  19-10-2012        760.01      False\n",
       "421569     45    98  26-10-2012       1076.80      False"
      ]
     },
     "execution_count": 9,
     "metadata": {},
     "output_type": "execute_result"
    }
   ],
   "source": [
    "train.tail()"
   ]
  },
  {
   "cell_type": "code",
   "execution_count": 10,
   "id": "4d8b2884",
   "metadata": {},
   "outputs": [
    {
     "name": "stdout",
     "output_type": "stream",
     "text": [
      "<class 'pandas.core.frame.DataFrame'>\n",
      "RangeIndex: 421570 entries, 0 to 421569\n",
      "Data columns (total 5 columns):\n",
      " #   Column        Non-Null Count   Dtype  \n",
      "---  ------        --------------   -----  \n",
      " 0   Store         421570 non-null  int64  \n",
      " 1   Dept          421570 non-null  int64  \n",
      " 2   Date          421570 non-null  object \n",
      " 3   Weekly_Sales  421570 non-null  float64\n",
      " 4   IsHoliday     421570 non-null  bool   \n",
      "dtypes: bool(1), float64(1), int64(2), object(1)\n",
      "memory usage: 13.3+ MB\n"
     ]
    }
   ],
   "source": [
    "train.info()"
   ]
  },
  {
   "cell_type": "markdown",
   "id": "b6d04ad1",
   "metadata": {},
   "source": [
    "#### Observation= Checking information of dataset"
   ]
  },
  {
   "cell_type": "markdown",
   "id": "5a58c90d",
   "metadata": {},
   "source": [
    "### Dataset containing  data of Stores"
   ]
  },
  {
   "cell_type": "code",
   "execution_count": 11,
   "id": "dcbfb99b",
   "metadata": {},
   "outputs": [
    {
     "data": {
      "text/plain": [
       "(45, 3)"
      ]
     },
     "execution_count": 11,
     "metadata": {},
     "output_type": "execute_result"
    }
   ],
   "source": [
    "store.shape"
   ]
  },
  {
   "cell_type": "code",
   "execution_count": 12,
   "id": "eefced6c",
   "metadata": {},
   "outputs": [
    {
     "data": {
      "text/html": [
       "<div>\n",
       "<style scoped>\n",
       "    .dataframe tbody tr th:only-of-type {\n",
       "        vertical-align: middle;\n",
       "    }\n",
       "\n",
       "    .dataframe tbody tr th {\n",
       "        vertical-align: top;\n",
       "    }\n",
       "\n",
       "    .dataframe thead th {\n",
       "        text-align: right;\n",
       "    }\n",
       "</style>\n",
       "<table border=\"1\" class=\"dataframe\">\n",
       "  <thead>\n",
       "    <tr style=\"text-align: right;\">\n",
       "      <th></th>\n",
       "      <th>Store</th>\n",
       "      <th>Type</th>\n",
       "      <th>Size</th>\n",
       "    </tr>\n",
       "  </thead>\n",
       "  <tbody>\n",
       "    <tr>\n",
       "      <th>0</th>\n",
       "      <td>1</td>\n",
       "      <td>A</td>\n",
       "      <td>151315</td>\n",
       "    </tr>\n",
       "    <tr>\n",
       "      <th>1</th>\n",
       "      <td>2</td>\n",
       "      <td>A</td>\n",
       "      <td>202307</td>\n",
       "    </tr>\n",
       "    <tr>\n",
       "      <th>2</th>\n",
       "      <td>3</td>\n",
       "      <td>B</td>\n",
       "      <td>37392</td>\n",
       "    </tr>\n",
       "    <tr>\n",
       "      <th>3</th>\n",
       "      <td>4</td>\n",
       "      <td>A</td>\n",
       "      <td>205863</td>\n",
       "    </tr>\n",
       "    <tr>\n",
       "      <th>4</th>\n",
       "      <td>5</td>\n",
       "      <td>B</td>\n",
       "      <td>34875</td>\n",
       "    </tr>\n",
       "  </tbody>\n",
       "</table>\n",
       "</div>"
      ],
      "text/plain": [
       "   Store Type    Size\n",
       "0      1    A  151315\n",
       "1      2    A  202307\n",
       "2      3    B   37392\n",
       "3      4    A  205863\n",
       "4      5    B   34875"
      ]
     },
     "execution_count": 12,
     "metadata": {},
     "output_type": "execute_result"
    }
   ],
   "source": [
    "store.head()"
   ]
  },
  {
   "cell_type": "code",
   "execution_count": 13,
   "id": "9402fbcd",
   "metadata": {},
   "outputs": [
    {
     "data": {
      "text/html": [
       "<div>\n",
       "<style scoped>\n",
       "    .dataframe tbody tr th:only-of-type {\n",
       "        vertical-align: middle;\n",
       "    }\n",
       "\n",
       "    .dataframe tbody tr th {\n",
       "        vertical-align: top;\n",
       "    }\n",
       "\n",
       "    .dataframe thead th {\n",
       "        text-align: right;\n",
       "    }\n",
       "</style>\n",
       "<table border=\"1\" class=\"dataframe\">\n",
       "  <thead>\n",
       "    <tr style=\"text-align: right;\">\n",
       "      <th></th>\n",
       "      <th>Store</th>\n",
       "      <th>Type</th>\n",
       "      <th>Size</th>\n",
       "    </tr>\n",
       "  </thead>\n",
       "  <tbody>\n",
       "    <tr>\n",
       "      <th>40</th>\n",
       "      <td>41</td>\n",
       "      <td>A</td>\n",
       "      <td>196321</td>\n",
       "    </tr>\n",
       "    <tr>\n",
       "      <th>41</th>\n",
       "      <td>42</td>\n",
       "      <td>C</td>\n",
       "      <td>39690</td>\n",
       "    </tr>\n",
       "    <tr>\n",
       "      <th>42</th>\n",
       "      <td>43</td>\n",
       "      <td>C</td>\n",
       "      <td>41062</td>\n",
       "    </tr>\n",
       "    <tr>\n",
       "      <th>43</th>\n",
       "      <td>44</td>\n",
       "      <td>C</td>\n",
       "      <td>39910</td>\n",
       "    </tr>\n",
       "    <tr>\n",
       "      <th>44</th>\n",
       "      <td>45</td>\n",
       "      <td>B</td>\n",
       "      <td>118221</td>\n",
       "    </tr>\n",
       "  </tbody>\n",
       "</table>\n",
       "</div>"
      ],
      "text/plain": [
       "    Store Type    Size\n",
       "40     41    A  196321\n",
       "41     42    C   39690\n",
       "42     43    C   41062\n",
       "43     44    C   39910\n",
       "44     45    B  118221"
      ]
     },
     "execution_count": 13,
     "metadata": {},
     "output_type": "execute_result"
    }
   ],
   "source": [
    "store.tail()"
   ]
  },
  {
   "cell_type": "code",
   "execution_count": 14,
   "id": "125117a5",
   "metadata": {},
   "outputs": [
    {
     "name": "stdout",
     "output_type": "stream",
     "text": [
      "<class 'pandas.core.frame.DataFrame'>\n",
      "RangeIndex: 45 entries, 0 to 44\n",
      "Data columns (total 3 columns):\n",
      " #   Column  Non-Null Count  Dtype \n",
      "---  ------  --------------  ----- \n",
      " 0   Store   45 non-null     int64 \n",
      " 1   Type    45 non-null     object\n",
      " 2   Size    45 non-null     int64 \n",
      "dtypes: int64(2), object(1)\n",
      "memory usage: 1.2+ KB\n"
     ]
    }
   ],
   "source": [
    "store.info()"
   ]
  },
  {
   "cell_type": "markdown",
   "id": "5c684d35",
   "metadata": {},
   "source": [
    "## Merging Dataset"
   ]
  },
  {
   "cell_type": "code",
   "execution_count": 15,
   "id": "29e0dd07",
   "metadata": {},
   "outputs": [
    {
     "data": {
      "text/html": [
       "<div>\n",
       "<style scoped>\n",
       "    .dataframe tbody tr th:only-of-type {\n",
       "        vertical-align: middle;\n",
       "    }\n",
       "\n",
       "    .dataframe tbody tr th {\n",
       "        vertical-align: top;\n",
       "    }\n",
       "\n",
       "    .dataframe thead th {\n",
       "        text-align: right;\n",
       "    }\n",
       "</style>\n",
       "<table border=\"1\" class=\"dataframe\">\n",
       "  <thead>\n",
       "    <tr style=\"text-align: right;\">\n",
       "      <th></th>\n",
       "      <th>Store</th>\n",
       "      <th>Dept</th>\n",
       "      <th>Date</th>\n",
       "      <th>Weekly_Sales</th>\n",
       "    </tr>\n",
       "  </thead>\n",
       "  <tbody>\n",
       "    <tr>\n",
       "      <th>0</th>\n",
       "      <td>1</td>\n",
       "      <td>1</td>\n",
       "      <td>01-04-2011</td>\n",
       "      <td>20398.09</td>\n",
       "    </tr>\n",
       "    <tr>\n",
       "      <th>1</th>\n",
       "      <td>1</td>\n",
       "      <td>1</td>\n",
       "      <td>01-06-2012</td>\n",
       "      <td>16065.49</td>\n",
       "    </tr>\n",
       "    <tr>\n",
       "      <th>2</th>\n",
       "      <td>1</td>\n",
       "      <td>1</td>\n",
       "      <td>01-07-2011</td>\n",
       "      <td>15363.50</td>\n",
       "    </tr>\n",
       "    <tr>\n",
       "      <th>3</th>\n",
       "      <td>1</td>\n",
       "      <td>1</td>\n",
       "      <td>01-10-2010</td>\n",
       "      <td>20094.19</td>\n",
       "    </tr>\n",
       "    <tr>\n",
       "      <th>4</th>\n",
       "      <td>1</td>\n",
       "      <td>1</td>\n",
       "      <td>02-03-2012</td>\n",
       "      <td>20113.03</td>\n",
       "    </tr>\n",
       "    <tr>\n",
       "      <th>5</th>\n",
       "      <td>1</td>\n",
       "      <td>1</td>\n",
       "      <td>02-04-2010</td>\n",
       "      <td>57258.43</td>\n",
       "    </tr>\n",
       "    <tr>\n",
       "      <th>6</th>\n",
       "      <td>1</td>\n",
       "      <td>1</td>\n",
       "      <td>02-07-2010</td>\n",
       "      <td>16333.14</td>\n",
       "    </tr>\n",
       "    <tr>\n",
       "      <th>7</th>\n",
       "      <td>1</td>\n",
       "      <td>1</td>\n",
       "      <td>02-09-2011</td>\n",
       "      <td>15277.27</td>\n",
       "    </tr>\n",
       "    <tr>\n",
       "      <th>8</th>\n",
       "      <td>1</td>\n",
       "      <td>1</td>\n",
       "      <td>02-12-2011</td>\n",
       "      <td>25293.49</td>\n",
       "    </tr>\n",
       "    <tr>\n",
       "      <th>9</th>\n",
       "      <td>1</td>\n",
       "      <td>1</td>\n",
       "      <td>03-02-2012</td>\n",
       "      <td>23510.49</td>\n",
       "    </tr>\n",
       "  </tbody>\n",
       "</table>\n",
       "</div>"
      ],
      "text/plain": [
       "   Store  Dept        Date  Weekly_Sales\n",
       "0      1     1  01-04-2011      20398.09\n",
       "1      1     1  01-06-2012      16065.49\n",
       "2      1     1  01-07-2011      15363.50\n",
       "3      1     1  01-10-2010      20094.19\n",
       "4      1     1  02-03-2012      20113.03\n",
       "5      1     1  02-04-2010      57258.43\n",
       "6      1     1  02-07-2010      16333.14\n",
       "7      1     1  02-09-2011      15277.27\n",
       "8      1     1  02-12-2011      25293.49\n",
       "9      1     1  03-02-2012      23510.49"
      ]
     },
     "execution_count": 15,
     "metadata": {},
     "output_type": "execute_result"
    }
   ],
   "source": [
    "#reseting train\n",
    "train=train.groupby(['Store','Dept','Date'])['Weekly_Sales'].sum()\n",
    "train=train.reset_index()\n",
    "train.head(10)"
   ]
  },
  {
   "cell_type": "code",
   "execution_count": 16,
   "id": "0d689419",
   "metadata": {},
   "outputs": [
    {
     "data": {
      "text/html": [
       "<div>\n",
       "<style scoped>\n",
       "    .dataframe tbody tr th:only-of-type {\n",
       "        vertical-align: middle;\n",
       "    }\n",
       "\n",
       "    .dataframe tbody tr th {\n",
       "        vertical-align: top;\n",
       "    }\n",
       "\n",
       "    .dataframe thead th {\n",
       "        text-align: right;\n",
       "    }\n",
       "</style>\n",
       "<table border=\"1\" class=\"dataframe\">\n",
       "  <thead>\n",
       "    <tr style=\"text-align: right;\">\n",
       "      <th></th>\n",
       "      <th>Store</th>\n",
       "      <th>Dept</th>\n",
       "      <th>Date</th>\n",
       "      <th>Weekly_Sales</th>\n",
       "      <th>Temperature</th>\n",
       "      <th>Fuel_Price</th>\n",
       "      <th>MarkDown1</th>\n",
       "      <th>MarkDown2</th>\n",
       "      <th>MarkDown3</th>\n",
       "      <th>MarkDown4</th>\n",
       "      <th>MarkDown5</th>\n",
       "      <th>CPI</th>\n",
       "      <th>Unemployment</th>\n",
       "      <th>IsHoliday</th>\n",
       "    </tr>\n",
       "  </thead>\n",
       "  <tbody>\n",
       "    <tr>\n",
       "      <th>0</th>\n",
       "      <td>1</td>\n",
       "      <td>1</td>\n",
       "      <td>01-04-2011</td>\n",
       "      <td>20398.09</td>\n",
       "      <td>59.17</td>\n",
       "      <td>3.524</td>\n",
       "      <td>NaN</td>\n",
       "      <td>NaN</td>\n",
       "      <td>NaN</td>\n",
       "      <td>NaN</td>\n",
       "      <td>NaN</td>\n",
       "      <td>214.837166</td>\n",
       "      <td>7.682</td>\n",
       "      <td>False</td>\n",
       "    </tr>\n",
       "    <tr>\n",
       "      <th>1</th>\n",
       "      <td>1</td>\n",
       "      <td>2</td>\n",
       "      <td>01-04-2011</td>\n",
       "      <td>46991.58</td>\n",
       "      <td>59.17</td>\n",
       "      <td>3.524</td>\n",
       "      <td>NaN</td>\n",
       "      <td>NaN</td>\n",
       "      <td>NaN</td>\n",
       "      <td>NaN</td>\n",
       "      <td>NaN</td>\n",
       "      <td>214.837166</td>\n",
       "      <td>7.682</td>\n",
       "      <td>False</td>\n",
       "    </tr>\n",
       "    <tr>\n",
       "      <th>2</th>\n",
       "      <td>1</td>\n",
       "      <td>3</td>\n",
       "      <td>01-04-2011</td>\n",
       "      <td>8734.19</td>\n",
       "      <td>59.17</td>\n",
       "      <td>3.524</td>\n",
       "      <td>NaN</td>\n",
       "      <td>NaN</td>\n",
       "      <td>NaN</td>\n",
       "      <td>NaN</td>\n",
       "      <td>NaN</td>\n",
       "      <td>214.837166</td>\n",
       "      <td>7.682</td>\n",
       "      <td>False</td>\n",
       "    </tr>\n",
       "    <tr>\n",
       "      <th>3</th>\n",
       "      <td>1</td>\n",
       "      <td>4</td>\n",
       "      <td>01-04-2011</td>\n",
       "      <td>34451.90</td>\n",
       "      <td>59.17</td>\n",
       "      <td>3.524</td>\n",
       "      <td>NaN</td>\n",
       "      <td>NaN</td>\n",
       "      <td>NaN</td>\n",
       "      <td>NaN</td>\n",
       "      <td>NaN</td>\n",
       "      <td>214.837166</td>\n",
       "      <td>7.682</td>\n",
       "      <td>False</td>\n",
       "    </tr>\n",
       "    <tr>\n",
       "      <th>4</th>\n",
       "      <td>1</td>\n",
       "      <td>5</td>\n",
       "      <td>01-04-2011</td>\n",
       "      <td>23598.55</td>\n",
       "      <td>59.17</td>\n",
       "      <td>3.524</td>\n",
       "      <td>NaN</td>\n",
       "      <td>NaN</td>\n",
       "      <td>NaN</td>\n",
       "      <td>NaN</td>\n",
       "      <td>NaN</td>\n",
       "      <td>214.837166</td>\n",
       "      <td>7.682</td>\n",
       "      <td>False</td>\n",
       "    </tr>\n",
       "    <tr>\n",
       "      <th>5</th>\n",
       "      <td>1</td>\n",
       "      <td>6</td>\n",
       "      <td>01-04-2011</td>\n",
       "      <td>3249.27</td>\n",
       "      <td>59.17</td>\n",
       "      <td>3.524</td>\n",
       "      <td>NaN</td>\n",
       "      <td>NaN</td>\n",
       "      <td>NaN</td>\n",
       "      <td>NaN</td>\n",
       "      <td>NaN</td>\n",
       "      <td>214.837166</td>\n",
       "      <td>7.682</td>\n",
       "      <td>False</td>\n",
       "    </tr>\n",
       "    <tr>\n",
       "      <th>6</th>\n",
       "      <td>1</td>\n",
       "      <td>7</td>\n",
       "      <td>01-04-2011</td>\n",
       "      <td>20144.71</td>\n",
       "      <td>59.17</td>\n",
       "      <td>3.524</td>\n",
       "      <td>NaN</td>\n",
       "      <td>NaN</td>\n",
       "      <td>NaN</td>\n",
       "      <td>NaN</td>\n",
       "      <td>NaN</td>\n",
       "      <td>214.837166</td>\n",
       "      <td>7.682</td>\n",
       "      <td>False</td>\n",
       "    </tr>\n",
       "    <tr>\n",
       "      <th>7</th>\n",
       "      <td>1</td>\n",
       "      <td>8</td>\n",
       "      <td>01-04-2011</td>\n",
       "      <td>35319.05</td>\n",
       "      <td>59.17</td>\n",
       "      <td>3.524</td>\n",
       "      <td>NaN</td>\n",
       "      <td>NaN</td>\n",
       "      <td>NaN</td>\n",
       "      <td>NaN</td>\n",
       "      <td>NaN</td>\n",
       "      <td>214.837166</td>\n",
       "      <td>7.682</td>\n",
       "      <td>False</td>\n",
       "    </tr>\n",
       "    <tr>\n",
       "      <th>8</th>\n",
       "      <td>1</td>\n",
       "      <td>9</td>\n",
       "      <td>01-04-2011</td>\n",
       "      <td>28388.25</td>\n",
       "      <td>59.17</td>\n",
       "      <td>3.524</td>\n",
       "      <td>NaN</td>\n",
       "      <td>NaN</td>\n",
       "      <td>NaN</td>\n",
       "      <td>NaN</td>\n",
       "      <td>NaN</td>\n",
       "      <td>214.837166</td>\n",
       "      <td>7.682</td>\n",
       "      <td>False</td>\n",
       "    </tr>\n",
       "    <tr>\n",
       "      <th>9</th>\n",
       "      <td>1</td>\n",
       "      <td>10</td>\n",
       "      <td>01-04-2011</td>\n",
       "      <td>30863.93</td>\n",
       "      <td>59.17</td>\n",
       "      <td>3.524</td>\n",
       "      <td>NaN</td>\n",
       "      <td>NaN</td>\n",
       "      <td>NaN</td>\n",
       "      <td>NaN</td>\n",
       "      <td>NaN</td>\n",
       "      <td>214.837166</td>\n",
       "      <td>7.682</td>\n",
       "      <td>False</td>\n",
       "    </tr>\n",
       "  </tbody>\n",
       "</table>\n",
       "</div>"
      ],
      "text/plain": [
       "   Store  Dept        Date  Weekly_Sales  Temperature  Fuel_Price  MarkDown1  \\\n",
       "0      1     1  01-04-2011      20398.09        59.17       3.524        NaN   \n",
       "1      1     2  01-04-2011      46991.58        59.17       3.524        NaN   \n",
       "2      1     3  01-04-2011       8734.19        59.17       3.524        NaN   \n",
       "3      1     4  01-04-2011      34451.90        59.17       3.524        NaN   \n",
       "4      1     5  01-04-2011      23598.55        59.17       3.524        NaN   \n",
       "5      1     6  01-04-2011       3249.27        59.17       3.524        NaN   \n",
       "6      1     7  01-04-2011      20144.71        59.17       3.524        NaN   \n",
       "7      1     8  01-04-2011      35319.05        59.17       3.524        NaN   \n",
       "8      1     9  01-04-2011      28388.25        59.17       3.524        NaN   \n",
       "9      1    10  01-04-2011      30863.93        59.17       3.524        NaN   \n",
       "\n",
       "   MarkDown2  MarkDown3  MarkDown4  MarkDown5         CPI  Unemployment  \\\n",
       "0        NaN        NaN        NaN        NaN  214.837166         7.682   \n",
       "1        NaN        NaN        NaN        NaN  214.837166         7.682   \n",
       "2        NaN        NaN        NaN        NaN  214.837166         7.682   \n",
       "3        NaN        NaN        NaN        NaN  214.837166         7.682   \n",
       "4        NaN        NaN        NaN        NaN  214.837166         7.682   \n",
       "5        NaN        NaN        NaN        NaN  214.837166         7.682   \n",
       "6        NaN        NaN        NaN        NaN  214.837166         7.682   \n",
       "7        NaN        NaN        NaN        NaN  214.837166         7.682   \n",
       "8        NaN        NaN        NaN        NaN  214.837166         7.682   \n",
       "9        NaN        NaN        NaN        NaN  214.837166         7.682   \n",
       "\n",
       "   IsHoliday  \n",
       "0      False  \n",
       "1      False  \n",
       "2      False  \n",
       "3      False  \n",
       "4      False  \n",
       "5      False  \n",
       "6      False  \n",
       "7      False  \n",
       "8      False  \n",
       "9      False  "
      ]
     },
     "execution_count": 16,
     "metadata": {},
     "output_type": "execute_result"
    }
   ],
   "source": [
    "#merging train and feature\n",
    "data=pd.merge(train,features,on=['Store','Date'],how='inner')\n",
    "data.head(10)"
   ]
  },
  {
   "cell_type": "code",
   "execution_count": 17,
   "id": "47ea4859",
   "metadata": {},
   "outputs": [
    {
     "data": {
      "text/plain": [
       "(421570, 14)"
      ]
     },
     "execution_count": 17,
     "metadata": {},
     "output_type": "execute_result"
    }
   ],
   "source": [
    "data.shape"
   ]
  },
  {
   "cell_type": "code",
   "execution_count": 18,
   "id": "7c7b779f",
   "metadata": {},
   "outputs": [
    {
     "data": {
      "text/html": [
       "<div>\n",
       "<style scoped>\n",
       "    .dataframe tbody tr th:only-of-type {\n",
       "        vertical-align: middle;\n",
       "    }\n",
       "\n",
       "    .dataframe tbody tr th {\n",
       "        vertical-align: top;\n",
       "    }\n",
       "\n",
       "    .dataframe thead th {\n",
       "        text-align: right;\n",
       "    }\n",
       "</style>\n",
       "<table border=\"1\" class=\"dataframe\">\n",
       "  <thead>\n",
       "    <tr style=\"text-align: right;\">\n",
       "      <th></th>\n",
       "      <th>Store</th>\n",
       "      <th>Dept</th>\n",
       "      <th>Date</th>\n",
       "      <th>Weekly_Sales</th>\n",
       "      <th>Temperature</th>\n",
       "      <th>Fuel_Price</th>\n",
       "      <th>MarkDown1</th>\n",
       "      <th>MarkDown2</th>\n",
       "      <th>MarkDown3</th>\n",
       "      <th>MarkDown4</th>\n",
       "      <th>MarkDown5</th>\n",
       "      <th>CPI</th>\n",
       "      <th>Unemployment</th>\n",
       "      <th>IsHoliday</th>\n",
       "      <th>Type</th>\n",
       "      <th>Size</th>\n",
       "    </tr>\n",
       "  </thead>\n",
       "  <tbody>\n",
       "    <tr>\n",
       "      <th>0</th>\n",
       "      <td>1</td>\n",
       "      <td>1</td>\n",
       "      <td>01-04-2011</td>\n",
       "      <td>20398.09</td>\n",
       "      <td>59.17</td>\n",
       "      <td>3.524</td>\n",
       "      <td>NaN</td>\n",
       "      <td>NaN</td>\n",
       "      <td>NaN</td>\n",
       "      <td>NaN</td>\n",
       "      <td>NaN</td>\n",
       "      <td>214.837166</td>\n",
       "      <td>7.682</td>\n",
       "      <td>False</td>\n",
       "      <td>A</td>\n",
       "      <td>151315</td>\n",
       "    </tr>\n",
       "    <tr>\n",
       "      <th>1</th>\n",
       "      <td>1</td>\n",
       "      <td>2</td>\n",
       "      <td>01-04-2011</td>\n",
       "      <td>46991.58</td>\n",
       "      <td>59.17</td>\n",
       "      <td>3.524</td>\n",
       "      <td>NaN</td>\n",
       "      <td>NaN</td>\n",
       "      <td>NaN</td>\n",
       "      <td>NaN</td>\n",
       "      <td>NaN</td>\n",
       "      <td>214.837166</td>\n",
       "      <td>7.682</td>\n",
       "      <td>False</td>\n",
       "      <td>A</td>\n",
       "      <td>151315</td>\n",
       "    </tr>\n",
       "    <tr>\n",
       "      <th>2</th>\n",
       "      <td>1</td>\n",
       "      <td>3</td>\n",
       "      <td>01-04-2011</td>\n",
       "      <td>8734.19</td>\n",
       "      <td>59.17</td>\n",
       "      <td>3.524</td>\n",
       "      <td>NaN</td>\n",
       "      <td>NaN</td>\n",
       "      <td>NaN</td>\n",
       "      <td>NaN</td>\n",
       "      <td>NaN</td>\n",
       "      <td>214.837166</td>\n",
       "      <td>7.682</td>\n",
       "      <td>False</td>\n",
       "      <td>A</td>\n",
       "      <td>151315</td>\n",
       "    </tr>\n",
       "    <tr>\n",
       "      <th>3</th>\n",
       "      <td>1</td>\n",
       "      <td>4</td>\n",
       "      <td>01-04-2011</td>\n",
       "      <td>34451.90</td>\n",
       "      <td>59.17</td>\n",
       "      <td>3.524</td>\n",
       "      <td>NaN</td>\n",
       "      <td>NaN</td>\n",
       "      <td>NaN</td>\n",
       "      <td>NaN</td>\n",
       "      <td>NaN</td>\n",
       "      <td>214.837166</td>\n",
       "      <td>7.682</td>\n",
       "      <td>False</td>\n",
       "      <td>A</td>\n",
       "      <td>151315</td>\n",
       "    </tr>\n",
       "    <tr>\n",
       "      <th>4</th>\n",
       "      <td>1</td>\n",
       "      <td>5</td>\n",
       "      <td>01-04-2011</td>\n",
       "      <td>23598.55</td>\n",
       "      <td>59.17</td>\n",
       "      <td>3.524</td>\n",
       "      <td>NaN</td>\n",
       "      <td>NaN</td>\n",
       "      <td>NaN</td>\n",
       "      <td>NaN</td>\n",
       "      <td>NaN</td>\n",
       "      <td>214.837166</td>\n",
       "      <td>7.682</td>\n",
       "      <td>False</td>\n",
       "      <td>A</td>\n",
       "      <td>151315</td>\n",
       "    </tr>\n",
       "    <tr>\n",
       "      <th>...</th>\n",
       "      <td>...</td>\n",
       "      <td>...</td>\n",
       "      <td>...</td>\n",
       "      <td>...</td>\n",
       "      <td>...</td>\n",
       "      <td>...</td>\n",
       "      <td>...</td>\n",
       "      <td>...</td>\n",
       "      <td>...</td>\n",
       "      <td>...</td>\n",
       "      <td>...</td>\n",
       "      <td>...</td>\n",
       "      <td>...</td>\n",
       "      <td>...</td>\n",
       "      <td>...</td>\n",
       "      <td>...</td>\n",
       "    </tr>\n",
       "    <tr>\n",
       "      <th>421565</th>\n",
       "      <td>45</td>\n",
       "      <td>93</td>\n",
       "      <td>31-12-2010</td>\n",
       "      <td>2072.46</td>\n",
       "      <td>29.67</td>\n",
       "      <td>3.179</td>\n",
       "      <td>NaN</td>\n",
       "      <td>NaN</td>\n",
       "      <td>NaN</td>\n",
       "      <td>NaN</td>\n",
       "      <td>NaN</td>\n",
       "      <td>182.571448</td>\n",
       "      <td>8.724</td>\n",
       "      <td>True</td>\n",
       "      <td>B</td>\n",
       "      <td>118221</td>\n",
       "    </tr>\n",
       "    <tr>\n",
       "      <th>421566</th>\n",
       "      <td>45</td>\n",
       "      <td>94</td>\n",
       "      <td>31-12-2010</td>\n",
       "      <td>3966.80</td>\n",
       "      <td>29.67</td>\n",
       "      <td>3.179</td>\n",
       "      <td>NaN</td>\n",
       "      <td>NaN</td>\n",
       "      <td>NaN</td>\n",
       "      <td>NaN</td>\n",
       "      <td>NaN</td>\n",
       "      <td>182.571448</td>\n",
       "      <td>8.724</td>\n",
       "      <td>True</td>\n",
       "      <td>B</td>\n",
       "      <td>118221</td>\n",
       "    </tr>\n",
       "    <tr>\n",
       "      <th>421567</th>\n",
       "      <td>45</td>\n",
       "      <td>95</td>\n",
       "      <td>31-12-2010</td>\n",
       "      <td>43149.88</td>\n",
       "      <td>29.67</td>\n",
       "      <td>3.179</td>\n",
       "      <td>NaN</td>\n",
       "      <td>NaN</td>\n",
       "      <td>NaN</td>\n",
       "      <td>NaN</td>\n",
       "      <td>NaN</td>\n",
       "      <td>182.571448</td>\n",
       "      <td>8.724</td>\n",
       "      <td>True</td>\n",
       "      <td>B</td>\n",
       "      <td>118221</td>\n",
       "    </tr>\n",
       "    <tr>\n",
       "      <th>421568</th>\n",
       "      <td>45</td>\n",
       "      <td>97</td>\n",
       "      <td>31-12-2010</td>\n",
       "      <td>5881.22</td>\n",
       "      <td>29.67</td>\n",
       "      <td>3.179</td>\n",
       "      <td>NaN</td>\n",
       "      <td>NaN</td>\n",
       "      <td>NaN</td>\n",
       "      <td>NaN</td>\n",
       "      <td>NaN</td>\n",
       "      <td>182.571448</td>\n",
       "      <td>8.724</td>\n",
       "      <td>True</td>\n",
       "      <td>B</td>\n",
       "      <td>118221</td>\n",
       "    </tr>\n",
       "    <tr>\n",
       "      <th>421569</th>\n",
       "      <td>45</td>\n",
       "      <td>98</td>\n",
       "      <td>31-12-2010</td>\n",
       "      <td>74.55</td>\n",
       "      <td>29.67</td>\n",
       "      <td>3.179</td>\n",
       "      <td>NaN</td>\n",
       "      <td>NaN</td>\n",
       "      <td>NaN</td>\n",
       "      <td>NaN</td>\n",
       "      <td>NaN</td>\n",
       "      <td>182.571448</td>\n",
       "      <td>8.724</td>\n",
       "      <td>True</td>\n",
       "      <td>B</td>\n",
       "      <td>118221</td>\n",
       "    </tr>\n",
       "  </tbody>\n",
       "</table>\n",
       "<p>421570 rows × 16 columns</p>\n",
       "</div>"
      ],
      "text/plain": [
       "        Store  Dept        Date  Weekly_Sales  Temperature  Fuel_Price  \\\n",
       "0           1     1  01-04-2011      20398.09        59.17       3.524   \n",
       "1           1     2  01-04-2011      46991.58        59.17       3.524   \n",
       "2           1     3  01-04-2011       8734.19        59.17       3.524   \n",
       "3           1     4  01-04-2011      34451.90        59.17       3.524   \n",
       "4           1     5  01-04-2011      23598.55        59.17       3.524   \n",
       "...       ...   ...         ...           ...          ...         ...   \n",
       "421565     45    93  31-12-2010       2072.46        29.67       3.179   \n",
       "421566     45    94  31-12-2010       3966.80        29.67       3.179   \n",
       "421567     45    95  31-12-2010      43149.88        29.67       3.179   \n",
       "421568     45    97  31-12-2010       5881.22        29.67       3.179   \n",
       "421569     45    98  31-12-2010         74.55        29.67       3.179   \n",
       "\n",
       "        MarkDown1  MarkDown2  MarkDown3  MarkDown4  MarkDown5         CPI  \\\n",
       "0             NaN        NaN        NaN        NaN        NaN  214.837166   \n",
       "1             NaN        NaN        NaN        NaN        NaN  214.837166   \n",
       "2             NaN        NaN        NaN        NaN        NaN  214.837166   \n",
       "3             NaN        NaN        NaN        NaN        NaN  214.837166   \n",
       "4             NaN        NaN        NaN        NaN        NaN  214.837166   \n",
       "...           ...        ...        ...        ...        ...         ...   \n",
       "421565        NaN        NaN        NaN        NaN        NaN  182.571448   \n",
       "421566        NaN        NaN        NaN        NaN        NaN  182.571448   \n",
       "421567        NaN        NaN        NaN        NaN        NaN  182.571448   \n",
       "421568        NaN        NaN        NaN        NaN        NaN  182.571448   \n",
       "421569        NaN        NaN        NaN        NaN        NaN  182.571448   \n",
       "\n",
       "        Unemployment  IsHoliday Type    Size  \n",
       "0              7.682      False    A  151315  \n",
       "1              7.682      False    A  151315  \n",
       "2              7.682      False    A  151315  \n",
       "3              7.682      False    A  151315  \n",
       "4              7.682      False    A  151315  \n",
       "...              ...        ...  ...     ...  \n",
       "421565         8.724       True    B  118221  \n",
       "421566         8.724       True    B  118221  \n",
       "421567         8.724       True    B  118221  \n",
       "421568         8.724       True    B  118221  \n",
       "421569         8.724       True    B  118221  \n",
       "\n",
       "[421570 rows x 16 columns]"
      ]
     },
     "execution_count": 18,
     "metadata": {},
     "output_type": "execute_result"
    }
   ],
   "source": [
    "#merging store with data\n",
    "data=pd.merge(data,store,on=['Store'],how='inner')\n",
    "data"
   ]
  },
  {
   "cell_type": "code",
   "execution_count": 19,
   "id": "33704133",
   "metadata": {},
   "outputs": [
    {
     "data": {
      "text/html": [
       "<div>\n",
       "<style scoped>\n",
       "    .dataframe tbody tr th:only-of-type {\n",
       "        vertical-align: middle;\n",
       "    }\n",
       "\n",
       "    .dataframe tbody tr th {\n",
       "        vertical-align: top;\n",
       "    }\n",
       "\n",
       "    .dataframe thead th {\n",
       "        text-align: right;\n",
       "    }\n",
       "</style>\n",
       "<table border=\"1\" class=\"dataframe\">\n",
       "  <thead>\n",
       "    <tr style=\"text-align: right;\">\n",
       "      <th></th>\n",
       "      <th>Store</th>\n",
       "      <th>Dept</th>\n",
       "      <th>Date</th>\n",
       "      <th>Weekly_Sales</th>\n",
       "      <th>Temperature</th>\n",
       "      <th>Fuel_Price</th>\n",
       "      <th>MarkDown1</th>\n",
       "      <th>MarkDown2</th>\n",
       "      <th>MarkDown3</th>\n",
       "      <th>MarkDown4</th>\n",
       "      <th>MarkDown5</th>\n",
       "      <th>CPI</th>\n",
       "      <th>Unemployment</th>\n",
       "      <th>IsHoliday</th>\n",
       "      <th>Type</th>\n",
       "      <th>Size</th>\n",
       "    </tr>\n",
       "  </thead>\n",
       "  <tbody>\n",
       "    <tr>\n",
       "      <th>0</th>\n",
       "      <td>1</td>\n",
       "      <td>1</td>\n",
       "      <td>01-04-2011</td>\n",
       "      <td>20398.09</td>\n",
       "      <td>59.17</td>\n",
       "      <td>3.524</td>\n",
       "      <td>NaN</td>\n",
       "      <td>NaN</td>\n",
       "      <td>NaN</td>\n",
       "      <td>NaN</td>\n",
       "      <td>NaN</td>\n",
       "      <td>214.837166</td>\n",
       "      <td>7.682</td>\n",
       "      <td>False</td>\n",
       "      <td>A</td>\n",
       "      <td>151315</td>\n",
       "    </tr>\n",
       "    <tr>\n",
       "      <th>148053</th>\n",
       "      <td>16</td>\n",
       "      <td>34</td>\n",
       "      <td>01-04-2011</td>\n",
       "      <td>4535.17</td>\n",
       "      <td>35.75</td>\n",
       "      <td>3.461</td>\n",
       "      <td>NaN</td>\n",
       "      <td>NaN</td>\n",
       "      <td>NaN</td>\n",
       "      <td>NaN</td>\n",
       "      <td>NaN</td>\n",
       "      <td>192.269171</td>\n",
       "      <td>6.339</td>\n",
       "      <td>False</td>\n",
       "      <td>B</td>\n",
       "      <td>57197</td>\n",
       "    </tr>\n",
       "    <tr>\n",
       "      <th>148054</th>\n",
       "      <td>16</td>\n",
       "      <td>35</td>\n",
       "      <td>01-04-2011</td>\n",
       "      <td>845.00</td>\n",
       "      <td>35.75</td>\n",
       "      <td>3.461</td>\n",
       "      <td>NaN</td>\n",
       "      <td>NaN</td>\n",
       "      <td>NaN</td>\n",
       "      <td>NaN</td>\n",
       "      <td>NaN</td>\n",
       "      <td>192.269171</td>\n",
       "      <td>6.339</td>\n",
       "      <td>False</td>\n",
       "      <td>B</td>\n",
       "      <td>57197</td>\n",
       "    </tr>\n",
       "    <tr>\n",
       "      <th>148055</th>\n",
       "      <td>16</td>\n",
       "      <td>36</td>\n",
       "      <td>01-04-2011</td>\n",
       "      <td>1172.50</td>\n",
       "      <td>35.75</td>\n",
       "      <td>3.461</td>\n",
       "      <td>NaN</td>\n",
       "      <td>NaN</td>\n",
       "      <td>NaN</td>\n",
       "      <td>NaN</td>\n",
       "      <td>NaN</td>\n",
       "      <td>192.269171</td>\n",
       "      <td>6.339</td>\n",
       "      <td>False</td>\n",
       "      <td>B</td>\n",
       "      <td>57197</td>\n",
       "    </tr>\n",
       "    <tr>\n",
       "      <th>148056</th>\n",
       "      <td>16</td>\n",
       "      <td>38</td>\n",
       "      <td>01-04-2011</td>\n",
       "      <td>57659.83</td>\n",
       "      <td>35.75</td>\n",
       "      <td>3.461</td>\n",
       "      <td>NaN</td>\n",
       "      <td>NaN</td>\n",
       "      <td>NaN</td>\n",
       "      <td>NaN</td>\n",
       "      <td>NaN</td>\n",
       "      <td>192.269171</td>\n",
       "      <td>6.339</td>\n",
       "      <td>False</td>\n",
       "      <td>B</td>\n",
       "      <td>57197</td>\n",
       "    </tr>\n",
       "    <tr>\n",
       "      <th>...</th>\n",
       "      <td>...</td>\n",
       "      <td>...</td>\n",
       "      <td>...</td>\n",
       "      <td>...</td>\n",
       "      <td>...</td>\n",
       "      <td>...</td>\n",
       "      <td>...</td>\n",
       "      <td>...</td>\n",
       "      <td>...</td>\n",
       "      <td>...</td>\n",
       "      <td>...</td>\n",
       "      <td>...</td>\n",
       "      <td>...</td>\n",
       "      <td>...</td>\n",
       "      <td>...</td>\n",
       "      <td>...</td>\n",
       "    </tr>\n",
       "    <tr>\n",
       "      <th>330701</th>\n",
       "      <td>34</td>\n",
       "      <td>16</td>\n",
       "      <td>31-12-2010</td>\n",
       "      <td>2792.33</td>\n",
       "      <td>34.11</td>\n",
       "      <td>2.955</td>\n",
       "      <td>NaN</td>\n",
       "      <td>NaN</td>\n",
       "      <td>NaN</td>\n",
       "      <td>NaN</td>\n",
       "      <td>NaN</td>\n",
       "      <td>127.087677</td>\n",
       "      <td>10.210</td>\n",
       "      <td>True</td>\n",
       "      <td>A</td>\n",
       "      <td>158114</td>\n",
       "    </tr>\n",
       "    <tr>\n",
       "      <th>330700</th>\n",
       "      <td>34</td>\n",
       "      <td>14</td>\n",
       "      <td>31-12-2010</td>\n",
       "      <td>9634.55</td>\n",
       "      <td>34.11</td>\n",
       "      <td>2.955</td>\n",
       "      <td>NaN</td>\n",
       "      <td>NaN</td>\n",
       "      <td>NaN</td>\n",
       "      <td>NaN</td>\n",
       "      <td>NaN</td>\n",
       "      <td>127.087677</td>\n",
       "      <td>10.210</td>\n",
       "      <td>True</td>\n",
       "      <td>A</td>\n",
       "      <td>158114</td>\n",
       "    </tr>\n",
       "    <tr>\n",
       "      <th>330699</th>\n",
       "      <td>34</td>\n",
       "      <td>13</td>\n",
       "      <td>31-12-2010</td>\n",
       "      <td>22824.12</td>\n",
       "      <td>34.11</td>\n",
       "      <td>2.955</td>\n",
       "      <td>NaN</td>\n",
       "      <td>NaN</td>\n",
       "      <td>NaN</td>\n",
       "      <td>NaN</td>\n",
       "      <td>NaN</td>\n",
       "      <td>127.087677</td>\n",
       "      <td>10.210</td>\n",
       "      <td>True</td>\n",
       "      <td>A</td>\n",
       "      <td>158114</td>\n",
       "    </tr>\n",
       "    <tr>\n",
       "      <th>330719</th>\n",
       "      <td>34</td>\n",
       "      <td>34</td>\n",
       "      <td>31-12-2010</td>\n",
       "      <td>9033.50</td>\n",
       "      <td>34.11</td>\n",
       "      <td>2.955</td>\n",
       "      <td>NaN</td>\n",
       "      <td>NaN</td>\n",
       "      <td>NaN</td>\n",
       "      <td>NaN</td>\n",
       "      <td>NaN</td>\n",
       "      <td>127.087677</td>\n",
       "      <td>10.210</td>\n",
       "      <td>True</td>\n",
       "      <td>A</td>\n",
       "      <td>158114</td>\n",
       "    </tr>\n",
       "    <tr>\n",
       "      <th>421569</th>\n",
       "      <td>45</td>\n",
       "      <td>98</td>\n",
       "      <td>31-12-2010</td>\n",
       "      <td>74.55</td>\n",
       "      <td>29.67</td>\n",
       "      <td>3.179</td>\n",
       "      <td>NaN</td>\n",
       "      <td>NaN</td>\n",
       "      <td>NaN</td>\n",
       "      <td>NaN</td>\n",
       "      <td>NaN</td>\n",
       "      <td>182.571448</td>\n",
       "      <td>8.724</td>\n",
       "      <td>True</td>\n",
       "      <td>B</td>\n",
       "      <td>118221</td>\n",
       "    </tr>\n",
       "  </tbody>\n",
       "</table>\n",
       "<p>421570 rows × 16 columns</p>\n",
       "</div>"
      ],
      "text/plain": [
       "        Store  Dept        Date  Weekly_Sales  Temperature  Fuel_Price  \\\n",
       "0           1     1  01-04-2011      20398.09        59.17       3.524   \n",
       "148053     16    34  01-04-2011       4535.17        35.75       3.461   \n",
       "148054     16    35  01-04-2011        845.00        35.75       3.461   \n",
       "148055     16    36  01-04-2011       1172.50        35.75       3.461   \n",
       "148056     16    38  01-04-2011      57659.83        35.75       3.461   \n",
       "...       ...   ...         ...           ...          ...         ...   \n",
       "330701     34    16  31-12-2010       2792.33        34.11       2.955   \n",
       "330700     34    14  31-12-2010       9634.55        34.11       2.955   \n",
       "330699     34    13  31-12-2010      22824.12        34.11       2.955   \n",
       "330719     34    34  31-12-2010       9033.50        34.11       2.955   \n",
       "421569     45    98  31-12-2010         74.55        29.67       3.179   \n",
       "\n",
       "        MarkDown1  MarkDown2  MarkDown3  MarkDown4  MarkDown5         CPI  \\\n",
       "0             NaN        NaN        NaN        NaN        NaN  214.837166   \n",
       "148053        NaN        NaN        NaN        NaN        NaN  192.269171   \n",
       "148054        NaN        NaN        NaN        NaN        NaN  192.269171   \n",
       "148055        NaN        NaN        NaN        NaN        NaN  192.269171   \n",
       "148056        NaN        NaN        NaN        NaN        NaN  192.269171   \n",
       "...           ...        ...        ...        ...        ...         ...   \n",
       "330701        NaN        NaN        NaN        NaN        NaN  127.087677   \n",
       "330700        NaN        NaN        NaN        NaN        NaN  127.087677   \n",
       "330699        NaN        NaN        NaN        NaN        NaN  127.087677   \n",
       "330719        NaN        NaN        NaN        NaN        NaN  127.087677   \n",
       "421569        NaN        NaN        NaN        NaN        NaN  182.571448   \n",
       "\n",
       "        Unemployment  IsHoliday Type    Size  \n",
       "0              7.682      False    A  151315  \n",
       "148053         6.339      False    B   57197  \n",
       "148054         6.339      False    B   57197  \n",
       "148055         6.339      False    B   57197  \n",
       "148056         6.339      False    B   57197  \n",
       "...              ...        ...  ...     ...  \n",
       "330701        10.210       True    A  158114  \n",
       "330700        10.210       True    A  158114  \n",
       "330699        10.210       True    A  158114  \n",
       "330719        10.210       True    A  158114  \n",
       "421569         8.724       True    B  118221  \n",
       "\n",
       "[421570 rows x 16 columns]"
      ]
     },
     "execution_count": 19,
     "metadata": {},
     "output_type": "execute_result"
    }
   ],
   "source": [
    "#sorting values of Data\n",
    "data=data.sort_values(by='Date')\n",
    "data"
   ]
  },
  {
   "cell_type": "code",
   "execution_count": 20,
   "id": "73da69cf",
   "metadata": {},
   "outputs": [
    {
     "data": {
      "text/plain": [
       "(421570, 16)"
      ]
     },
     "execution_count": 20,
     "metadata": {},
     "output_type": "execute_result"
    }
   ],
   "source": [
    "data.shape"
   ]
  },
  {
   "cell_type": "code",
   "execution_count": 21,
   "id": "3f442b3b",
   "metadata": {},
   "outputs": [
    {
     "data": {
      "text/plain": [
       "Index(['Store', 'Dept', 'Date', 'Weekly_Sales', 'Temperature', 'Fuel_Price',\n",
       "       'MarkDown1', 'MarkDown2', 'MarkDown3', 'MarkDown4', 'MarkDown5', 'CPI',\n",
       "       'Unemployment', 'IsHoliday', 'Type', 'Size'],\n",
       "      dtype='object')"
      ]
     },
     "execution_count": 21,
     "metadata": {},
     "output_type": "execute_result"
    }
   ],
   "source": [
    "data.columns"
   ]
  },
  {
   "cell_type": "code",
   "execution_count": 22,
   "id": "494e17b3",
   "metadata": {},
   "outputs": [
    {
     "name": "stdout",
     "output_type": "stream",
     "text": [
      "<class 'pandas.core.frame.DataFrame'>\n",
      "Int64Index: 421570 entries, 0 to 421569\n",
      "Data columns (total 16 columns):\n",
      " #   Column        Non-Null Count   Dtype  \n",
      "---  ------        --------------   -----  \n",
      " 0   Store         421570 non-null  int64  \n",
      " 1   Dept          421570 non-null  int64  \n",
      " 2   Date          421570 non-null  object \n",
      " 3   Weekly_Sales  421570 non-null  float64\n",
      " 4   Temperature   421570 non-null  float64\n",
      " 5   Fuel_Price    421570 non-null  float64\n",
      " 6   MarkDown1     150681 non-null  float64\n",
      " 7   MarkDown2     111248 non-null  float64\n",
      " 8   MarkDown3     137091 non-null  float64\n",
      " 9   MarkDown4     134967 non-null  float64\n",
      " 10  MarkDown5     151432 non-null  float64\n",
      " 11  CPI           421570 non-null  float64\n",
      " 12  Unemployment  421570 non-null  float64\n",
      " 13  IsHoliday     421570 non-null  bool   \n",
      " 14  Type          421570 non-null  object \n",
      " 15  Size          421570 non-null  int64  \n",
      "dtypes: bool(1), float64(10), int64(3), object(2)\n",
      "memory usage: 51.9+ MB\n"
     ]
    }
   ],
   "source": [
    "data.info()"
   ]
  },
  {
   "cell_type": "code",
   "execution_count": 23,
   "id": "e99b2264",
   "metadata": {},
   "outputs": [
    {
     "data": {
      "text/html": [
       "<div>\n",
       "<style scoped>\n",
       "    .dataframe tbody tr th:only-of-type {\n",
       "        vertical-align: middle;\n",
       "    }\n",
       "\n",
       "    .dataframe tbody tr th {\n",
       "        vertical-align: top;\n",
       "    }\n",
       "\n",
       "    .dataframe thead th {\n",
       "        text-align: right;\n",
       "    }\n",
       "</style>\n",
       "<table border=\"1\" class=\"dataframe\">\n",
       "  <thead>\n",
       "    <tr style=\"text-align: right;\">\n",
       "      <th></th>\n",
       "      <th>Store</th>\n",
       "      <th>Dept</th>\n",
       "      <th>Weekly_Sales</th>\n",
       "      <th>Temperature</th>\n",
       "      <th>Fuel_Price</th>\n",
       "      <th>MarkDown1</th>\n",
       "      <th>MarkDown2</th>\n",
       "      <th>MarkDown3</th>\n",
       "      <th>MarkDown4</th>\n",
       "      <th>MarkDown5</th>\n",
       "      <th>CPI</th>\n",
       "      <th>Unemployment</th>\n",
       "      <th>Size</th>\n",
       "    </tr>\n",
       "  </thead>\n",
       "  <tbody>\n",
       "    <tr>\n",
       "      <th>count</th>\n",
       "      <td>421570.000000</td>\n",
       "      <td>421570.000000</td>\n",
       "      <td>421570.000000</td>\n",
       "      <td>421570.000000</td>\n",
       "      <td>421570.000000</td>\n",
       "      <td>150681.000000</td>\n",
       "      <td>111248.000000</td>\n",
       "      <td>137091.000000</td>\n",
       "      <td>134967.000000</td>\n",
       "      <td>151432.000000</td>\n",
       "      <td>421570.000000</td>\n",
       "      <td>421570.000000</td>\n",
       "      <td>421570.000000</td>\n",
       "    </tr>\n",
       "    <tr>\n",
       "      <th>mean</th>\n",
       "      <td>22.200546</td>\n",
       "      <td>44.260317</td>\n",
       "      <td>15981.258123</td>\n",
       "      <td>60.090059</td>\n",
       "      <td>3.361027</td>\n",
       "      <td>7246.420196</td>\n",
       "      <td>3334.628621</td>\n",
       "      <td>1439.421384</td>\n",
       "      <td>3383.168256</td>\n",
       "      <td>4628.975079</td>\n",
       "      <td>171.201947</td>\n",
       "      <td>7.960289</td>\n",
       "      <td>136727.915739</td>\n",
       "    </tr>\n",
       "    <tr>\n",
       "      <th>std</th>\n",
       "      <td>12.785297</td>\n",
       "      <td>30.492054</td>\n",
       "      <td>22711.183519</td>\n",
       "      <td>18.447931</td>\n",
       "      <td>0.458515</td>\n",
       "      <td>8291.221345</td>\n",
       "      <td>9475.357325</td>\n",
       "      <td>9623.078290</td>\n",
       "      <td>6292.384031</td>\n",
       "      <td>5962.887455</td>\n",
       "      <td>39.159276</td>\n",
       "      <td>1.863296</td>\n",
       "      <td>60980.583328</td>\n",
       "    </tr>\n",
       "    <tr>\n",
       "      <th>min</th>\n",
       "      <td>1.000000</td>\n",
       "      <td>1.000000</td>\n",
       "      <td>-4988.940000</td>\n",
       "      <td>-2.060000</td>\n",
       "      <td>2.472000</td>\n",
       "      <td>0.270000</td>\n",
       "      <td>-265.760000</td>\n",
       "      <td>-29.100000</td>\n",
       "      <td>0.220000</td>\n",
       "      <td>135.160000</td>\n",
       "      <td>126.064000</td>\n",
       "      <td>3.879000</td>\n",
       "      <td>34875.000000</td>\n",
       "    </tr>\n",
       "    <tr>\n",
       "      <th>25%</th>\n",
       "      <td>11.000000</td>\n",
       "      <td>18.000000</td>\n",
       "      <td>2079.650000</td>\n",
       "      <td>46.680000</td>\n",
       "      <td>2.933000</td>\n",
       "      <td>2240.270000</td>\n",
       "      <td>41.600000</td>\n",
       "      <td>5.080000</td>\n",
       "      <td>504.220000</td>\n",
       "      <td>1878.440000</td>\n",
       "      <td>132.022667</td>\n",
       "      <td>6.891000</td>\n",
       "      <td>93638.000000</td>\n",
       "    </tr>\n",
       "    <tr>\n",
       "      <th>50%</th>\n",
       "      <td>22.000000</td>\n",
       "      <td>37.000000</td>\n",
       "      <td>7612.030000</td>\n",
       "      <td>62.090000</td>\n",
       "      <td>3.452000</td>\n",
       "      <td>5347.450000</td>\n",
       "      <td>192.000000</td>\n",
       "      <td>24.600000</td>\n",
       "      <td>1481.310000</td>\n",
       "      <td>3359.450000</td>\n",
       "      <td>182.318780</td>\n",
       "      <td>7.866000</td>\n",
       "      <td>140167.000000</td>\n",
       "    </tr>\n",
       "    <tr>\n",
       "      <th>75%</th>\n",
       "      <td>33.000000</td>\n",
       "      <td>74.000000</td>\n",
       "      <td>20205.852500</td>\n",
       "      <td>74.280000</td>\n",
       "      <td>3.738000</td>\n",
       "      <td>9210.900000</td>\n",
       "      <td>1926.940000</td>\n",
       "      <td>103.990000</td>\n",
       "      <td>3595.040000</td>\n",
       "      <td>5563.800000</td>\n",
       "      <td>212.416993</td>\n",
       "      <td>8.572000</td>\n",
       "      <td>202505.000000</td>\n",
       "    </tr>\n",
       "    <tr>\n",
       "      <th>max</th>\n",
       "      <td>45.000000</td>\n",
       "      <td>99.000000</td>\n",
       "      <td>693099.360000</td>\n",
       "      <td>100.140000</td>\n",
       "      <td>4.468000</td>\n",
       "      <td>88646.760000</td>\n",
       "      <td>104519.540000</td>\n",
       "      <td>141630.610000</td>\n",
       "      <td>67474.850000</td>\n",
       "      <td>108519.280000</td>\n",
       "      <td>227.232807</td>\n",
       "      <td>14.313000</td>\n",
       "      <td>219622.000000</td>\n",
       "    </tr>\n",
       "  </tbody>\n",
       "</table>\n",
       "</div>"
      ],
      "text/plain": [
       "               Store           Dept   Weekly_Sales    Temperature  \\\n",
       "count  421570.000000  421570.000000  421570.000000  421570.000000   \n",
       "mean       22.200546      44.260317   15981.258123      60.090059   \n",
       "std        12.785297      30.492054   22711.183519      18.447931   \n",
       "min         1.000000       1.000000   -4988.940000      -2.060000   \n",
       "25%        11.000000      18.000000    2079.650000      46.680000   \n",
       "50%        22.000000      37.000000    7612.030000      62.090000   \n",
       "75%        33.000000      74.000000   20205.852500      74.280000   \n",
       "max        45.000000      99.000000  693099.360000     100.140000   \n",
       "\n",
       "          Fuel_Price      MarkDown1      MarkDown2      MarkDown3  \\\n",
       "count  421570.000000  150681.000000  111248.000000  137091.000000   \n",
       "mean        3.361027    7246.420196    3334.628621    1439.421384   \n",
       "std         0.458515    8291.221345    9475.357325    9623.078290   \n",
       "min         2.472000       0.270000    -265.760000     -29.100000   \n",
       "25%         2.933000    2240.270000      41.600000       5.080000   \n",
       "50%         3.452000    5347.450000     192.000000      24.600000   \n",
       "75%         3.738000    9210.900000    1926.940000     103.990000   \n",
       "max         4.468000   88646.760000  104519.540000  141630.610000   \n",
       "\n",
       "           MarkDown4      MarkDown5            CPI   Unemployment  \\\n",
       "count  134967.000000  151432.000000  421570.000000  421570.000000   \n",
       "mean     3383.168256    4628.975079     171.201947       7.960289   \n",
       "std      6292.384031    5962.887455      39.159276       1.863296   \n",
       "min         0.220000     135.160000     126.064000       3.879000   \n",
       "25%       504.220000    1878.440000     132.022667       6.891000   \n",
       "50%      1481.310000    3359.450000     182.318780       7.866000   \n",
       "75%      3595.040000    5563.800000     212.416993       8.572000   \n",
       "max     67474.850000  108519.280000     227.232807      14.313000   \n",
       "\n",
       "                Size  \n",
       "count  421570.000000  \n",
       "mean   136727.915739  \n",
       "std     60980.583328  \n",
       "min     34875.000000  \n",
       "25%     93638.000000  \n",
       "50%    140167.000000  \n",
       "75%    202505.000000  \n",
       "max    219622.000000  "
      ]
     },
     "execution_count": 23,
     "metadata": {},
     "output_type": "execute_result"
    }
   ],
   "source": [
    "data.describe()"
   ]
  },
  {
   "cell_type": "markdown",
   "id": "a99590c4",
   "metadata": {},
   "source": [
    "## Null Values and Reduction"
   ]
  },
  {
   "cell_type": "code",
   "execution_count": 24,
   "id": "338691e2",
   "metadata": {},
   "outputs": [
    {
     "data": {
      "text/plain": [
       "Store             int64\n",
       "Dept              int64\n",
       "Date             object\n",
       "Weekly_Sales    float64\n",
       "Temperature     float64\n",
       "Fuel_Price      float64\n",
       "MarkDown1       float64\n",
       "MarkDown2       float64\n",
       "MarkDown3       float64\n",
       "MarkDown4       float64\n",
       "MarkDown5       float64\n",
       "CPI             float64\n",
       "Unemployment    float64\n",
       "IsHoliday          bool\n",
       "Type             object\n",
       "Size              int64\n",
       "dtype: object"
      ]
     },
     "execution_count": 24,
     "metadata": {},
     "output_type": "execute_result"
    }
   ],
   "source": [
    "data.dtypes"
   ]
  },
  {
   "cell_type": "code",
   "execution_count": 25,
   "id": "91bd423d",
   "metadata": {},
   "outputs": [
    {
     "data": {
      "text/html": [
       "<div>\n",
       "<style scoped>\n",
       "    .dataframe tbody tr th:only-of-type {\n",
       "        vertical-align: middle;\n",
       "    }\n",
       "\n",
       "    .dataframe tbody tr th {\n",
       "        vertical-align: top;\n",
       "    }\n",
       "\n",
       "    .dataframe thead th {\n",
       "        text-align: right;\n",
       "    }\n",
       "</style>\n",
       "<table border=\"1\" class=\"dataframe\">\n",
       "  <thead>\n",
       "    <tr style=\"text-align: right;\">\n",
       "      <th></th>\n",
       "      <th>Store</th>\n",
       "      <th>Dept</th>\n",
       "      <th>Date</th>\n",
       "      <th>Weekly_Sales</th>\n",
       "      <th>Temperature</th>\n",
       "      <th>Fuel_Price</th>\n",
       "      <th>MarkDown1</th>\n",
       "      <th>MarkDown2</th>\n",
       "      <th>MarkDown3</th>\n",
       "      <th>MarkDown4</th>\n",
       "      <th>MarkDown5</th>\n",
       "      <th>CPI</th>\n",
       "      <th>Unemployment</th>\n",
       "      <th>IsHoliday</th>\n",
       "      <th>Type</th>\n",
       "      <th>Size</th>\n",
       "    </tr>\n",
       "  </thead>\n",
       "  <tbody>\n",
       "    <tr>\n",
       "      <th>0</th>\n",
       "      <td>False</td>\n",
       "      <td>False</td>\n",
       "      <td>False</td>\n",
       "      <td>False</td>\n",
       "      <td>False</td>\n",
       "      <td>False</td>\n",
       "      <td>True</td>\n",
       "      <td>True</td>\n",
       "      <td>True</td>\n",
       "      <td>True</td>\n",
       "      <td>True</td>\n",
       "      <td>False</td>\n",
       "      <td>False</td>\n",
       "      <td>False</td>\n",
       "      <td>False</td>\n",
       "      <td>False</td>\n",
       "    </tr>\n",
       "    <tr>\n",
       "      <th>148053</th>\n",
       "      <td>False</td>\n",
       "      <td>False</td>\n",
       "      <td>False</td>\n",
       "      <td>False</td>\n",
       "      <td>False</td>\n",
       "      <td>False</td>\n",
       "      <td>True</td>\n",
       "      <td>True</td>\n",
       "      <td>True</td>\n",
       "      <td>True</td>\n",
       "      <td>True</td>\n",
       "      <td>False</td>\n",
       "      <td>False</td>\n",
       "      <td>False</td>\n",
       "      <td>False</td>\n",
       "      <td>False</td>\n",
       "    </tr>\n",
       "    <tr>\n",
       "      <th>148054</th>\n",
       "      <td>False</td>\n",
       "      <td>False</td>\n",
       "      <td>False</td>\n",
       "      <td>False</td>\n",
       "      <td>False</td>\n",
       "      <td>False</td>\n",
       "      <td>True</td>\n",
       "      <td>True</td>\n",
       "      <td>True</td>\n",
       "      <td>True</td>\n",
       "      <td>True</td>\n",
       "      <td>False</td>\n",
       "      <td>False</td>\n",
       "      <td>False</td>\n",
       "      <td>False</td>\n",
       "      <td>False</td>\n",
       "    </tr>\n",
       "    <tr>\n",
       "      <th>148055</th>\n",
       "      <td>False</td>\n",
       "      <td>False</td>\n",
       "      <td>False</td>\n",
       "      <td>False</td>\n",
       "      <td>False</td>\n",
       "      <td>False</td>\n",
       "      <td>True</td>\n",
       "      <td>True</td>\n",
       "      <td>True</td>\n",
       "      <td>True</td>\n",
       "      <td>True</td>\n",
       "      <td>False</td>\n",
       "      <td>False</td>\n",
       "      <td>False</td>\n",
       "      <td>False</td>\n",
       "      <td>False</td>\n",
       "    </tr>\n",
       "    <tr>\n",
       "      <th>148056</th>\n",
       "      <td>False</td>\n",
       "      <td>False</td>\n",
       "      <td>False</td>\n",
       "      <td>False</td>\n",
       "      <td>False</td>\n",
       "      <td>False</td>\n",
       "      <td>True</td>\n",
       "      <td>True</td>\n",
       "      <td>True</td>\n",
       "      <td>True</td>\n",
       "      <td>True</td>\n",
       "      <td>False</td>\n",
       "      <td>False</td>\n",
       "      <td>False</td>\n",
       "      <td>False</td>\n",
       "      <td>False</td>\n",
       "    </tr>\n",
       "    <tr>\n",
       "      <th>...</th>\n",
       "      <td>...</td>\n",
       "      <td>...</td>\n",
       "      <td>...</td>\n",
       "      <td>...</td>\n",
       "      <td>...</td>\n",
       "      <td>...</td>\n",
       "      <td>...</td>\n",
       "      <td>...</td>\n",
       "      <td>...</td>\n",
       "      <td>...</td>\n",
       "      <td>...</td>\n",
       "      <td>...</td>\n",
       "      <td>...</td>\n",
       "      <td>...</td>\n",
       "      <td>...</td>\n",
       "      <td>...</td>\n",
       "    </tr>\n",
       "    <tr>\n",
       "      <th>330701</th>\n",
       "      <td>False</td>\n",
       "      <td>False</td>\n",
       "      <td>False</td>\n",
       "      <td>False</td>\n",
       "      <td>False</td>\n",
       "      <td>False</td>\n",
       "      <td>True</td>\n",
       "      <td>True</td>\n",
       "      <td>True</td>\n",
       "      <td>True</td>\n",
       "      <td>True</td>\n",
       "      <td>False</td>\n",
       "      <td>False</td>\n",
       "      <td>False</td>\n",
       "      <td>False</td>\n",
       "      <td>False</td>\n",
       "    </tr>\n",
       "    <tr>\n",
       "      <th>330700</th>\n",
       "      <td>False</td>\n",
       "      <td>False</td>\n",
       "      <td>False</td>\n",
       "      <td>False</td>\n",
       "      <td>False</td>\n",
       "      <td>False</td>\n",
       "      <td>True</td>\n",
       "      <td>True</td>\n",
       "      <td>True</td>\n",
       "      <td>True</td>\n",
       "      <td>True</td>\n",
       "      <td>False</td>\n",
       "      <td>False</td>\n",
       "      <td>False</td>\n",
       "      <td>False</td>\n",
       "      <td>False</td>\n",
       "    </tr>\n",
       "    <tr>\n",
       "      <th>330699</th>\n",
       "      <td>False</td>\n",
       "      <td>False</td>\n",
       "      <td>False</td>\n",
       "      <td>False</td>\n",
       "      <td>False</td>\n",
       "      <td>False</td>\n",
       "      <td>True</td>\n",
       "      <td>True</td>\n",
       "      <td>True</td>\n",
       "      <td>True</td>\n",
       "      <td>True</td>\n",
       "      <td>False</td>\n",
       "      <td>False</td>\n",
       "      <td>False</td>\n",
       "      <td>False</td>\n",
       "      <td>False</td>\n",
       "    </tr>\n",
       "    <tr>\n",
       "      <th>330719</th>\n",
       "      <td>False</td>\n",
       "      <td>False</td>\n",
       "      <td>False</td>\n",
       "      <td>False</td>\n",
       "      <td>False</td>\n",
       "      <td>False</td>\n",
       "      <td>True</td>\n",
       "      <td>True</td>\n",
       "      <td>True</td>\n",
       "      <td>True</td>\n",
       "      <td>True</td>\n",
       "      <td>False</td>\n",
       "      <td>False</td>\n",
       "      <td>False</td>\n",
       "      <td>False</td>\n",
       "      <td>False</td>\n",
       "    </tr>\n",
       "    <tr>\n",
       "      <th>421569</th>\n",
       "      <td>False</td>\n",
       "      <td>False</td>\n",
       "      <td>False</td>\n",
       "      <td>False</td>\n",
       "      <td>False</td>\n",
       "      <td>False</td>\n",
       "      <td>True</td>\n",
       "      <td>True</td>\n",
       "      <td>True</td>\n",
       "      <td>True</td>\n",
       "      <td>True</td>\n",
       "      <td>False</td>\n",
       "      <td>False</td>\n",
       "      <td>False</td>\n",
       "      <td>False</td>\n",
       "      <td>False</td>\n",
       "    </tr>\n",
       "  </tbody>\n",
       "</table>\n",
       "<p>421570 rows × 16 columns</p>\n",
       "</div>"
      ],
      "text/plain": [
       "        Store   Dept   Date  Weekly_Sales  Temperature  Fuel_Price  MarkDown1  \\\n",
       "0       False  False  False         False        False       False       True   \n",
       "148053  False  False  False         False        False       False       True   \n",
       "148054  False  False  False         False        False       False       True   \n",
       "148055  False  False  False         False        False       False       True   \n",
       "148056  False  False  False         False        False       False       True   \n",
       "...       ...    ...    ...           ...          ...         ...        ...   \n",
       "330701  False  False  False         False        False       False       True   \n",
       "330700  False  False  False         False        False       False       True   \n",
       "330699  False  False  False         False        False       False       True   \n",
       "330719  False  False  False         False        False       False       True   \n",
       "421569  False  False  False         False        False       False       True   \n",
       "\n",
       "        MarkDown2  MarkDown3  MarkDown4  MarkDown5    CPI  Unemployment  \\\n",
       "0            True       True       True       True  False         False   \n",
       "148053       True       True       True       True  False         False   \n",
       "148054       True       True       True       True  False         False   \n",
       "148055       True       True       True       True  False         False   \n",
       "148056       True       True       True       True  False         False   \n",
       "...           ...        ...        ...        ...    ...           ...   \n",
       "330701       True       True       True       True  False         False   \n",
       "330700       True       True       True       True  False         False   \n",
       "330699       True       True       True       True  False         False   \n",
       "330719       True       True       True       True  False         False   \n",
       "421569       True       True       True       True  False         False   \n",
       "\n",
       "        IsHoliday   Type   Size  \n",
       "0           False  False  False  \n",
       "148053      False  False  False  \n",
       "148054      False  False  False  \n",
       "148055      False  False  False  \n",
       "148056      False  False  False  \n",
       "...           ...    ...    ...  \n",
       "330701      False  False  False  \n",
       "330700      False  False  False  \n",
       "330699      False  False  False  \n",
       "330719      False  False  False  \n",
       "421569      False  False  False  \n",
       "\n",
       "[421570 rows x 16 columns]"
      ]
     },
     "execution_count": 25,
     "metadata": {},
     "output_type": "execute_result"
    }
   ],
   "source": [
    "data.isnull()"
   ]
  },
  {
   "cell_type": "code",
   "execution_count": 26,
   "id": "6b100a04",
   "metadata": {},
   "outputs": [
    {
     "data": {
      "text/plain": [
       "1422431"
      ]
     },
     "execution_count": 26,
     "metadata": {},
     "output_type": "execute_result"
    }
   ],
   "source": [
    "data.isnull().sum().sum()"
   ]
  },
  {
   "cell_type": "code",
   "execution_count": 27,
   "id": "c96dc60c",
   "metadata": {},
   "outputs": [
    {
     "data": {
      "text/html": [
       "<div>\n",
       "<style scoped>\n",
       "    .dataframe tbody tr th:only-of-type {\n",
       "        vertical-align: middle;\n",
       "    }\n",
       "\n",
       "    .dataframe tbody tr th {\n",
       "        vertical-align: top;\n",
       "    }\n",
       "\n",
       "    .dataframe thead th {\n",
       "        text-align: right;\n",
       "    }\n",
       "</style>\n",
       "<table border=\"1\" class=\"dataframe\">\n",
       "  <thead>\n",
       "    <tr style=\"text-align: right;\">\n",
       "      <th></th>\n",
       "      <th>Store</th>\n",
       "      <th>Dept</th>\n",
       "      <th>Date</th>\n",
       "      <th>Weekly_Sales</th>\n",
       "      <th>Temperature</th>\n",
       "      <th>Fuel_Price</th>\n",
       "      <th>CPI</th>\n",
       "      <th>Unemployment</th>\n",
       "      <th>IsHoliday</th>\n",
       "      <th>Type</th>\n",
       "      <th>Size</th>\n",
       "    </tr>\n",
       "  </thead>\n",
       "  <tbody>\n",
       "    <tr>\n",
       "      <th>0</th>\n",
       "      <td>1</td>\n",
       "      <td>1</td>\n",
       "      <td>01-04-2011</td>\n",
       "      <td>20398.09</td>\n",
       "      <td>59.17</td>\n",
       "      <td>3.524</td>\n",
       "      <td>214.837166</td>\n",
       "      <td>7.682</td>\n",
       "      <td>False</td>\n",
       "      <td>A</td>\n",
       "      <td>151315</td>\n",
       "    </tr>\n",
       "    <tr>\n",
       "      <th>148053</th>\n",
       "      <td>16</td>\n",
       "      <td>34</td>\n",
       "      <td>01-04-2011</td>\n",
       "      <td>4535.17</td>\n",
       "      <td>35.75</td>\n",
       "      <td>3.461</td>\n",
       "      <td>192.269171</td>\n",
       "      <td>6.339</td>\n",
       "      <td>False</td>\n",
       "      <td>B</td>\n",
       "      <td>57197</td>\n",
       "    </tr>\n",
       "    <tr>\n",
       "      <th>148054</th>\n",
       "      <td>16</td>\n",
       "      <td>35</td>\n",
       "      <td>01-04-2011</td>\n",
       "      <td>845.00</td>\n",
       "      <td>35.75</td>\n",
       "      <td>3.461</td>\n",
       "      <td>192.269171</td>\n",
       "      <td>6.339</td>\n",
       "      <td>False</td>\n",
       "      <td>B</td>\n",
       "      <td>57197</td>\n",
       "    </tr>\n",
       "    <tr>\n",
       "      <th>148055</th>\n",
       "      <td>16</td>\n",
       "      <td>36</td>\n",
       "      <td>01-04-2011</td>\n",
       "      <td>1172.50</td>\n",
       "      <td>35.75</td>\n",
       "      <td>3.461</td>\n",
       "      <td>192.269171</td>\n",
       "      <td>6.339</td>\n",
       "      <td>False</td>\n",
       "      <td>B</td>\n",
       "      <td>57197</td>\n",
       "    </tr>\n",
       "    <tr>\n",
       "      <th>148056</th>\n",
       "      <td>16</td>\n",
       "      <td>38</td>\n",
       "      <td>01-04-2011</td>\n",
       "      <td>57659.83</td>\n",
       "      <td>35.75</td>\n",
       "      <td>3.461</td>\n",
       "      <td>192.269171</td>\n",
       "      <td>6.339</td>\n",
       "      <td>False</td>\n",
       "      <td>B</td>\n",
       "      <td>57197</td>\n",
       "    </tr>\n",
       "    <tr>\n",
       "      <th>148057</th>\n",
       "      <td>16</td>\n",
       "      <td>40</td>\n",
       "      <td>01-04-2011</td>\n",
       "      <td>33428.25</td>\n",
       "      <td>35.75</td>\n",
       "      <td>3.461</td>\n",
       "      <td>192.269171</td>\n",
       "      <td>6.339</td>\n",
       "      <td>False</td>\n",
       "      <td>B</td>\n",
       "      <td>57197</td>\n",
       "    </tr>\n",
       "    <tr>\n",
       "      <th>148058</th>\n",
       "      <td>16</td>\n",
       "      <td>41</td>\n",
       "      <td>01-04-2011</td>\n",
       "      <td>2555.26</td>\n",
       "      <td>35.75</td>\n",
       "      <td>3.461</td>\n",
       "      <td>192.269171</td>\n",
       "      <td>6.339</td>\n",
       "      <td>False</td>\n",
       "      <td>B</td>\n",
       "      <td>57197</td>\n",
       "    </tr>\n",
       "    <tr>\n",
       "      <th>148059</th>\n",
       "      <td>16</td>\n",
       "      <td>42</td>\n",
       "      <td>01-04-2011</td>\n",
       "      <td>2998.87</td>\n",
       "      <td>35.75</td>\n",
       "      <td>3.461</td>\n",
       "      <td>192.269171</td>\n",
       "      <td>6.339</td>\n",
       "      <td>False</td>\n",
       "      <td>B</td>\n",
       "      <td>57197</td>\n",
       "    </tr>\n",
       "    <tr>\n",
       "      <th>148060</th>\n",
       "      <td>16</td>\n",
       "      <td>44</td>\n",
       "      <td>01-04-2011</td>\n",
       "      <td>3894.04</td>\n",
       "      <td>35.75</td>\n",
       "      <td>3.461</td>\n",
       "      <td>192.269171</td>\n",
       "      <td>6.339</td>\n",
       "      <td>False</td>\n",
       "      <td>B</td>\n",
       "      <td>57197</td>\n",
       "    </tr>\n",
       "    <tr>\n",
       "      <th>148061</th>\n",
       "      <td>16</td>\n",
       "      <td>45</td>\n",
       "      <td>01-04-2011</td>\n",
       "      <td>11.47</td>\n",
       "      <td>35.75</td>\n",
       "      <td>3.461</td>\n",
       "      <td>192.269171</td>\n",
       "      <td>6.339</td>\n",
       "      <td>False</td>\n",
       "      <td>B</td>\n",
       "      <td>57197</td>\n",
       "    </tr>\n",
       "  </tbody>\n",
       "</table>\n",
       "</div>"
      ],
      "text/plain": [
       "        Store  Dept        Date  Weekly_Sales  Temperature  Fuel_Price  \\\n",
       "0           1     1  01-04-2011      20398.09        59.17       3.524   \n",
       "148053     16    34  01-04-2011       4535.17        35.75       3.461   \n",
       "148054     16    35  01-04-2011        845.00        35.75       3.461   \n",
       "148055     16    36  01-04-2011       1172.50        35.75       3.461   \n",
       "148056     16    38  01-04-2011      57659.83        35.75       3.461   \n",
       "148057     16    40  01-04-2011      33428.25        35.75       3.461   \n",
       "148058     16    41  01-04-2011       2555.26        35.75       3.461   \n",
       "148059     16    42  01-04-2011       2998.87        35.75       3.461   \n",
       "148060     16    44  01-04-2011       3894.04        35.75       3.461   \n",
       "148061     16    45  01-04-2011         11.47        35.75       3.461   \n",
       "\n",
       "               CPI  Unemployment  IsHoliday Type    Size  \n",
       "0       214.837166         7.682      False    A  151315  \n",
       "148053  192.269171         6.339      False    B   57197  \n",
       "148054  192.269171         6.339      False    B   57197  \n",
       "148055  192.269171         6.339      False    B   57197  \n",
       "148056  192.269171         6.339      False    B   57197  \n",
       "148057  192.269171         6.339      False    B   57197  \n",
       "148058  192.269171         6.339      False    B   57197  \n",
       "148059  192.269171         6.339      False    B   57197  \n",
       "148060  192.269171         6.339      False    B   57197  \n",
       "148061  192.269171         6.339      False    B   57197  "
      ]
     },
     "execution_count": 27,
     "metadata": {},
     "output_type": "execute_result"
    }
   ],
   "source": [
    "data=data.drop(['MarkDown1','MarkDown2','MarkDown3','MarkDown4','MarkDown5'],axis=1)\n",
    "data.head(10)"
   ]
  },
  {
   "cell_type": "code",
   "execution_count": 28,
   "id": "e66741fe",
   "metadata": {},
   "outputs": [],
   "source": [
    "data.drop(['Date'],axis=1,inplace=True)"
   ]
  },
  {
   "cell_type": "markdown",
   "id": "c53cd2e1",
   "metadata": {},
   "source": [
    "## Total values in our dataset"
   ]
  },
  {
   "cell_type": "code",
   "execution_count": 29,
   "id": "dc9dc02e",
   "metadata": {},
   "outputs": [
    {
     "data": {
      "text/plain": [
       "6745120"
      ]
     },
     "execution_count": 29,
     "metadata": {},
     "output_type": "execute_result"
    }
   ],
   "source": [
    "(421570* 16)"
   ]
  },
  {
   "cell_type": "markdown",
   "id": "1aea3795",
   "metadata": {},
   "source": [
    "- Observation : Total observation in dataset is 67,45,120"
   ]
  },
  {
   "cell_type": "markdown",
   "id": "1cdda395",
   "metadata": {},
   "source": [
    "# observation:\n",
    "- MarkDown1       270889\n",
    "- MarkDown2       310322\n",
    "- MarkDown3       284479\n",
    "- MarkDown4       286603\n",
    "- MarkDown5       270138 \n",
    "- So these are null value which we drop to make data clean."
   ]
  },
  {
   "cell_type": "code",
   "execution_count": 30,
   "id": "5474d78f",
   "metadata": {},
   "outputs": [
    {
     "data": {
      "text/plain": [
       "1422431"
      ]
     },
     "execution_count": 30,
     "metadata": {},
     "output_type": "execute_result"
    }
   ],
   "source": [
    "270889+310322+284479+286603+270138"
   ]
  },
  {
   "cell_type": "markdown",
   "id": "b94adc5a",
   "metadata": {},
   "source": [
    "## This is dropout null values which is 1422431"
   ]
  },
  {
   "cell_type": "code",
   "execution_count": 31,
   "id": "f025b783",
   "metadata": {},
   "outputs": [
    {
     "data": {
      "text/plain": [
       "(421570, 10)"
      ]
     },
     "execution_count": 31,
     "metadata": {},
     "output_type": "execute_result"
    }
   ],
   "source": [
    "data.shape"
   ]
  },
  {
   "cell_type": "markdown",
   "id": "99f196e7",
   "metadata": {},
   "source": [
    "- Shape of Dataset after cleaning null values"
   ]
  },
  {
   "cell_type": "markdown",
   "id": "7bb33554",
   "metadata": {},
   "source": [
    "- Manipulating data. Transform data into useful information and deleting unnecessary items. Getting the final data.\n",
    "\n",
    "- Removing the unnecessary columns."
   ]
  },
  {
   "cell_type": "markdown",
   "id": "1db84c64",
   "metadata": {},
   "source": [
    "# EDA"
   ]
  },
  {
   "cell_type": "code",
   "execution_count": 32,
   "id": "45effc98",
   "metadata": {},
   "outputs": [
    {
     "data": {
      "image/png": "[encoded data removed]",
      "text/plain": [
       "<Figure size 432x288 with 1 Axes>"
      ]
     },
     "metadata": {
      "needs_background": "light"
     },
     "output_type": "display_data"
    }
   ],
   "source": [
    "sns.countplot(x=\"IsHoliday\", data=data,palette='rocket')\n",
    "plt.show()"
   ]
  },
  {
   "cell_type": "markdown",
   "id": "e17d2d51",
   "metadata": {},
   "source": [
    "## Observation\n",
    "- Sales on holiday is a little  more than sales in not-holiday\n",
    "- True = notholiday False = Holiday"
   ]
  },
  {
   "cell_type": "markdown",
   "id": "e21a2071",
   "metadata": {},
   "source": [
    "## Converting IsHoliday in Holiday which is integer and 1 for holiday and 0 otherwise."
   ]
  },
  {
   "cell_type": "code",
   "execution_count": 33,
   "id": "4f0ee9a8",
   "metadata": {},
   "outputs": [
    {
     "data": {
      "text/html": [
       "<div>\n",
       "<style scoped>\n",
       "    .dataframe tbody tr th:only-of-type {\n",
       "        vertical-align: middle;\n",
       "    }\n",
       "\n",
       "    .dataframe tbody tr th {\n",
       "        vertical-align: top;\n",
       "    }\n",
       "\n",
       "    .dataframe thead th {\n",
       "        text-align: right;\n",
       "    }\n",
       "</style>\n",
       "<table border=\"1\" class=\"dataframe\">\n",
       "  <thead>\n",
       "    <tr style=\"text-align: right;\">\n",
       "      <th></th>\n",
       "      <th>Store</th>\n",
       "      <th>Dept</th>\n",
       "      <th>Weekly_Sales</th>\n",
       "      <th>Temperature</th>\n",
       "      <th>Fuel_Price</th>\n",
       "      <th>CPI</th>\n",
       "      <th>Unemployment</th>\n",
       "      <th>IsHoliday</th>\n",
       "      <th>Type</th>\n",
       "      <th>Size</th>\n",
       "      <th>Holiday</th>\n",
       "    </tr>\n",
       "  </thead>\n",
       "  <tbody>\n",
       "    <tr>\n",
       "      <th>0</th>\n",
       "      <td>1</td>\n",
       "      <td>1</td>\n",
       "      <td>20398.09</td>\n",
       "      <td>59.17</td>\n",
       "      <td>3.524</td>\n",
       "      <td>214.837166</td>\n",
       "      <td>7.682</td>\n",
       "      <td>False</td>\n",
       "      <td>A</td>\n",
       "      <td>151315</td>\n",
       "      <td>0</td>\n",
       "    </tr>\n",
       "    <tr>\n",
       "      <th>148053</th>\n",
       "      <td>16</td>\n",
       "      <td>34</td>\n",
       "      <td>4535.17</td>\n",
       "      <td>35.75</td>\n",
       "      <td>3.461</td>\n",
       "      <td>192.269171</td>\n",
       "      <td>6.339</td>\n",
       "      <td>False</td>\n",
       "      <td>B</td>\n",
       "      <td>57197</td>\n",
       "      <td>0</td>\n",
       "    </tr>\n",
       "    <tr>\n",
       "      <th>148054</th>\n",
       "      <td>16</td>\n",
       "      <td>35</td>\n",
       "      <td>845.00</td>\n",
       "      <td>35.75</td>\n",
       "      <td>3.461</td>\n",
       "      <td>192.269171</td>\n",
       "      <td>6.339</td>\n",
       "      <td>False</td>\n",
       "      <td>B</td>\n",
       "      <td>57197</td>\n",
       "      <td>0</td>\n",
       "    </tr>\n",
       "    <tr>\n",
       "      <th>148055</th>\n",
       "      <td>16</td>\n",
       "      <td>36</td>\n",
       "      <td>1172.50</td>\n",
       "      <td>35.75</td>\n",
       "      <td>3.461</td>\n",
       "      <td>192.269171</td>\n",
       "      <td>6.339</td>\n",
       "      <td>False</td>\n",
       "      <td>B</td>\n",
       "      <td>57197</td>\n",
       "      <td>0</td>\n",
       "    </tr>\n",
       "    <tr>\n",
       "      <th>148056</th>\n",
       "      <td>16</td>\n",
       "      <td>38</td>\n",
       "      <td>57659.83</td>\n",
       "      <td>35.75</td>\n",
       "      <td>3.461</td>\n",
       "      <td>192.269171</td>\n",
       "      <td>6.339</td>\n",
       "      <td>False</td>\n",
       "      <td>B</td>\n",
       "      <td>57197</td>\n",
       "      <td>0</td>\n",
       "    </tr>\n",
       "    <tr>\n",
       "      <th>148057</th>\n",
       "      <td>16</td>\n",
       "      <td>40</td>\n",
       "      <td>33428.25</td>\n",
       "      <td>35.75</td>\n",
       "      <td>3.461</td>\n",
       "      <td>192.269171</td>\n",
       "      <td>6.339</td>\n",
       "      <td>False</td>\n",
       "      <td>B</td>\n",
       "      <td>57197</td>\n",
       "      <td>0</td>\n",
       "    </tr>\n",
       "    <tr>\n",
       "      <th>148058</th>\n",
       "      <td>16</td>\n",
       "      <td>41</td>\n",
       "      <td>2555.26</td>\n",
       "      <td>35.75</td>\n",
       "      <td>3.461</td>\n",
       "      <td>192.269171</td>\n",
       "      <td>6.339</td>\n",
       "      <td>False</td>\n",
       "      <td>B</td>\n",
       "      <td>57197</td>\n",
       "      <td>0</td>\n",
       "    </tr>\n",
       "    <tr>\n",
       "      <th>148059</th>\n",
       "      <td>16</td>\n",
       "      <td>42</td>\n",
       "      <td>2998.87</td>\n",
       "      <td>35.75</td>\n",
       "      <td>3.461</td>\n",
       "      <td>192.269171</td>\n",
       "      <td>6.339</td>\n",
       "      <td>False</td>\n",
       "      <td>B</td>\n",
       "      <td>57197</td>\n",
       "      <td>0</td>\n",
       "    </tr>\n",
       "    <tr>\n",
       "      <th>148060</th>\n",
       "      <td>16</td>\n",
       "      <td>44</td>\n",
       "      <td>3894.04</td>\n",
       "      <td>35.75</td>\n",
       "      <td>3.461</td>\n",
       "      <td>192.269171</td>\n",
       "      <td>6.339</td>\n",
       "      <td>False</td>\n",
       "      <td>B</td>\n",
       "      <td>57197</td>\n",
       "      <td>0</td>\n",
       "    </tr>\n",
       "    <tr>\n",
       "      <th>148061</th>\n",
       "      <td>16</td>\n",
       "      <td>45</td>\n",
       "      <td>11.47</td>\n",
       "      <td>35.75</td>\n",
       "      <td>3.461</td>\n",
       "      <td>192.269171</td>\n",
       "      <td>6.339</td>\n",
       "      <td>False</td>\n",
       "      <td>B</td>\n",
       "      <td>57197</td>\n",
       "      <td>0</td>\n",
       "    </tr>\n",
       "  </tbody>\n",
       "</table>\n",
       "</div>"
      ],
      "text/plain": [
       "        Store  Dept  Weekly_Sales  Temperature  Fuel_Price         CPI  \\\n",
       "0           1     1      20398.09        59.17       3.524  214.837166   \n",
       "148053     16    34       4535.17        35.75       3.461  192.269171   \n",
       "148054     16    35        845.00        35.75       3.461  192.269171   \n",
       "148055     16    36       1172.50        35.75       3.461  192.269171   \n",
       "148056     16    38      57659.83        35.75       3.461  192.269171   \n",
       "148057     16    40      33428.25        35.75       3.461  192.269171   \n",
       "148058     16    41       2555.26        35.75       3.461  192.269171   \n",
       "148059     16    42       2998.87        35.75       3.461  192.269171   \n",
       "148060     16    44       3894.04        35.75       3.461  192.269171   \n",
       "148061     16    45         11.47        35.75       3.461  192.269171   \n",
       "\n",
       "        Unemployment  IsHoliday Type    Size  Holiday  \n",
       "0              7.682      False    A  151315        0  \n",
       "148053         6.339      False    B   57197        0  \n",
       "148054         6.339      False    B   57197        0  \n",
       "148055         6.339      False    B   57197        0  \n",
       "148056         6.339      False    B   57197        0  \n",
       "148057         6.339      False    B   57197        0  \n",
       "148058         6.339      False    B   57197        0  \n",
       "148059         6.339      False    B   57197        0  \n",
       "148060         6.339      False    B   57197        0  \n",
       "148061         6.339      False    B   57197        0  "
      ]
     },
     "execution_count": 33,
     "metadata": {},
     "output_type": "execute_result"
    }
   ],
   "source": [
    "data['Holiday']=[int(i) for i in list(data.IsHoliday)]\n",
    "data.head(10)"
   ]
  },
  {
   "cell_type": "markdown",
   "id": "637de35f",
   "metadata": {},
   "source": [
    "## Again checking for null values and verify that data is clean."
   ]
  },
  {
   "cell_type": "code",
   "execution_count": 34,
   "id": "6d6c2fac",
   "metadata": {},
   "outputs": [
    {
     "data": {
      "text/plain": [
       "Store           0\n",
       "Dept            0\n",
       "Weekly_Sales    0\n",
       "Temperature     0\n",
       "Fuel_Price      0\n",
       "CPI             0\n",
       "Unemployment    0\n",
       "IsHoliday       0\n",
       "Type            0\n",
       "Size            0\n",
       "Holiday         0\n",
       "dtype: int64"
      ]
     },
     "execution_count": 34,
     "metadata": {},
     "output_type": "execute_result"
    }
   ],
   "source": [
    "data.isnull().sum()"
   ]
  },
  {
   "cell_type": "markdown",
   "id": "3d4eac79",
   "metadata": {},
   "source": [
    "# Statistical Information"
   ]
  },
  {
   "cell_type": "markdown",
   "id": "38f55979",
   "metadata": {},
   "source": [
    "### Correlation\n",
    "- It is relation between two groups or two column or feature\n",
    "- Relation between +1 to -1"
   ]
  },
  {
   "cell_type": "code",
   "execution_count": 35,
   "id": "714bf8d7",
   "metadata": {},
   "outputs": [
    {
     "data": {
      "text/html": [
       "<div>\n",
       "<style scoped>\n",
       "    .dataframe tbody tr th:only-of-type {\n",
       "        vertical-align: middle;\n",
       "    }\n",
       "\n",
       "    .dataframe tbody tr th {\n",
       "        vertical-align: top;\n",
       "    }\n",
       "\n",
       "    .dataframe thead th {\n",
       "        text-align: right;\n",
       "    }\n",
       "</style>\n",
       "<table border=\"1\" class=\"dataframe\">\n",
       "  <thead>\n",
       "    <tr style=\"text-align: right;\">\n",
       "      <th></th>\n",
       "      <th>Store</th>\n",
       "      <th>Dept</th>\n",
       "      <th>Weekly_Sales</th>\n",
       "      <th>Temperature</th>\n",
       "      <th>Fuel_Price</th>\n",
       "      <th>CPI</th>\n",
       "      <th>Unemployment</th>\n",
       "      <th>IsHoliday</th>\n",
       "      <th>Size</th>\n",
       "      <th>Holiday</th>\n",
       "    </tr>\n",
       "  </thead>\n",
       "  <tbody>\n",
       "    <tr>\n",
       "      <th>Store</th>\n",
       "      <td>1.000000</td>\n",
       "      <td>0.024004</td>\n",
       "      <td>-0.085195</td>\n",
       "      <td>-0.050097</td>\n",
       "      <td>0.065290</td>\n",
       "      <td>-0.211088</td>\n",
       "      <td>0.208552</td>\n",
       "      <td>-0.000548</td>\n",
       "      <td>-0.182881</td>\n",
       "      <td>-0.000548</td>\n",
       "    </tr>\n",
       "    <tr>\n",
       "      <th>Dept</th>\n",
       "      <td>0.024004</td>\n",
       "      <td>1.000000</td>\n",
       "      <td>0.148032</td>\n",
       "      <td>0.004437</td>\n",
       "      <td>0.003572</td>\n",
       "      <td>-0.007477</td>\n",
       "      <td>0.007837</td>\n",
       "      <td>0.000916</td>\n",
       "      <td>-0.002966</td>\n",
       "      <td>0.000916</td>\n",
       "    </tr>\n",
       "    <tr>\n",
       "      <th>Weekly_Sales</th>\n",
       "      <td>-0.085195</td>\n",
       "      <td>0.148032</td>\n",
       "      <td>1.000000</td>\n",
       "      <td>-0.002312</td>\n",
       "      <td>-0.000120</td>\n",
       "      <td>-0.020921</td>\n",
       "      <td>-0.025864</td>\n",
       "      <td>0.012774</td>\n",
       "      <td>0.243828</td>\n",
       "      <td>0.012774</td>\n",
       "    </tr>\n",
       "    <tr>\n",
       "      <th>Temperature</th>\n",
       "      <td>-0.050097</td>\n",
       "      <td>0.004437</td>\n",
       "      <td>-0.002312</td>\n",
       "      <td>1.000000</td>\n",
       "      <td>0.143859</td>\n",
       "      <td>0.182112</td>\n",
       "      <td>0.096730</td>\n",
       "      <td>-0.155949</td>\n",
       "      <td>-0.058313</td>\n",
       "      <td>-0.155949</td>\n",
       "    </tr>\n",
       "    <tr>\n",
       "      <th>Fuel_Price</th>\n",
       "      <td>0.065290</td>\n",
       "      <td>0.003572</td>\n",
       "      <td>-0.000120</td>\n",
       "      <td>0.143859</td>\n",
       "      <td>1.000000</td>\n",
       "      <td>-0.164210</td>\n",
       "      <td>-0.033853</td>\n",
       "      <td>-0.078281</td>\n",
       "      <td>0.003361</td>\n",
       "      <td>-0.078281</td>\n",
       "    </tr>\n",
       "    <tr>\n",
       "      <th>CPI</th>\n",
       "      <td>-0.211088</td>\n",
       "      <td>-0.007477</td>\n",
       "      <td>-0.020921</td>\n",
       "      <td>0.182112</td>\n",
       "      <td>-0.164210</td>\n",
       "      <td>1.000000</td>\n",
       "      <td>-0.299953</td>\n",
       "      <td>-0.001944</td>\n",
       "      <td>-0.003314</td>\n",
       "      <td>-0.001944</td>\n",
       "    </tr>\n",
       "    <tr>\n",
       "      <th>Unemployment</th>\n",
       "      <td>0.208552</td>\n",
       "      <td>0.007837</td>\n",
       "      <td>-0.025864</td>\n",
       "      <td>0.096730</td>\n",
       "      <td>-0.033853</td>\n",
       "      <td>-0.299953</td>\n",
       "      <td>1.000000</td>\n",
       "      <td>0.010460</td>\n",
       "      <td>-0.068238</td>\n",
       "      <td>0.010460</td>\n",
       "    </tr>\n",
       "    <tr>\n",
       "      <th>IsHoliday</th>\n",
       "      <td>-0.000548</td>\n",
       "      <td>0.000916</td>\n",
       "      <td>0.012774</td>\n",
       "      <td>-0.155949</td>\n",
       "      <td>-0.078281</td>\n",
       "      <td>-0.001944</td>\n",
       "      <td>0.010460</td>\n",
       "      <td>1.000000</td>\n",
       "      <td>0.000593</td>\n",
       "      <td>1.000000</td>\n",
       "    </tr>\n",
       "    <tr>\n",
       "      <th>Size</th>\n",
       "      <td>-0.182881</td>\n",
       "      <td>-0.002966</td>\n",
       "      <td>0.243828</td>\n",
       "      <td>-0.058313</td>\n",
       "      <td>0.003361</td>\n",
       "      <td>-0.003314</td>\n",
       "      <td>-0.068238</td>\n",
       "      <td>0.000593</td>\n",
       "      <td>1.000000</td>\n",
       "      <td>0.000593</td>\n",
       "    </tr>\n",
       "    <tr>\n",
       "      <th>Holiday</th>\n",
       "      <td>-0.000548</td>\n",
       "      <td>0.000916</td>\n",
       "      <td>0.012774</td>\n",
       "      <td>-0.155949</td>\n",
       "      <td>-0.078281</td>\n",
       "      <td>-0.001944</td>\n",
       "      <td>0.010460</td>\n",
       "      <td>1.000000</td>\n",
       "      <td>0.000593</td>\n",
       "      <td>1.000000</td>\n",
       "    </tr>\n",
       "  </tbody>\n",
       "</table>\n",
       "</div>"
      ],
      "text/plain": [
       "                 Store      Dept  Weekly_Sales  Temperature  Fuel_Price  \\\n",
       "Store         1.000000  0.024004     -0.085195    -0.050097    0.065290   \n",
       "Dept          0.024004  1.000000      0.148032     0.004437    0.003572   \n",
       "Weekly_Sales -0.085195  0.148032      1.000000    -0.002312   -0.000120   \n",
       "Temperature  -0.050097  0.004437     -0.002312     1.000000    0.143859   \n",
       "Fuel_Price    0.065290  0.003572     -0.000120     0.143859    1.000000   \n",
       "CPI          -0.211088 -0.007477     -0.020921     0.182112   -0.164210   \n",
       "Unemployment  0.208552  0.007837     -0.025864     0.096730   -0.033853   \n",
       "IsHoliday    -0.000548  0.000916      0.012774    -0.155949   -0.078281   \n",
       "Size         -0.182881 -0.002966      0.243828    -0.058313    0.003361   \n",
       "Holiday      -0.000548  0.000916      0.012774    -0.155949   -0.078281   \n",
       "\n",
       "                   CPI  Unemployment  IsHoliday      Size   Holiday  \n",
       "Store        -0.211088      0.208552  -0.000548 -0.182881 -0.000548  \n",
       "Dept         -0.007477      0.007837   0.000916 -0.002966  0.000916  \n",
       "Weekly_Sales -0.020921     -0.025864   0.012774  0.243828  0.012774  \n",
       "Temperature   0.182112      0.096730  -0.155949 -0.058313 -0.155949  \n",
       "Fuel_Price   -0.164210     -0.033853  -0.078281  0.003361 -0.078281  \n",
       "CPI           1.000000     -0.299953  -0.001944 -0.003314 -0.001944  \n",
       "Unemployment -0.299953      1.000000   0.010460 -0.068238  0.010460  \n",
       "IsHoliday    -0.001944      0.010460   1.000000  0.000593  1.000000  \n",
       "Size         -0.003314     -0.068238   0.000593  1.000000  0.000593  \n",
       "Holiday      -0.001944      0.010460   1.000000  0.000593  1.000000  "
      ]
     },
     "execution_count": 35,
     "metadata": {},
     "output_type": "execute_result"
    }
   ],
   "source": [
    "data.corr()"
   ]
  },
  {
   "cell_type": "code",
   "execution_count": 36,
   "id": "7f213755",
   "metadata": {},
   "outputs": [
    {
     "data": {
      "image/png": "[encoded data removed]",
      "text/plain": [
       "<Figure size 720x576 with 2 Axes>"
      ]
     },
     "metadata": {
      "needs_background": "light"
     },
     "output_type": "display_data"
    }
   ],
   "source": [
    "plt.figure(figsize=(10,8))\n",
    "sns.heatmap(data.corr(),annot=True)\n",
    "plt.show()"
   ]
  },
  {
   "cell_type": "markdown",
   "id": "c5ea3014",
   "metadata": {},
   "source": [
    "#### Observation = The value of correlation can take any value from -1 to 1.\n",
    "- Values which appears in the dark color it shows strong correlation between each other."
   ]
  },
  {
   "cell_type": "markdown",
   "id": "58fdd25d",
   "metadata": {},
   "source": [
    "## Covariance\n",
    "- Covariance provides the measure of strength of correlation between two variable or more set of variable\n",
    "- The mean of each variable is used as referance and relative position of observations compared to mean is important."
   ]
  },
  {
   "cell_type": "code",
   "execution_count": 37,
   "id": "b1b59a3c",
   "metadata": {},
   "outputs": [
    {
     "data": {
      "text/html": [
       "<div>\n",
       "<style scoped>\n",
       "    .dataframe tbody tr th:only-of-type {\n",
       "        vertical-align: middle;\n",
       "    }\n",
       "\n",
       "    .dataframe tbody tr th {\n",
       "        vertical-align: top;\n",
       "    }\n",
       "\n",
       "    .dataframe thead th {\n",
       "        text-align: right;\n",
       "    }\n",
       "</style>\n",
       "<table border=\"1\" class=\"dataframe\">\n",
       "  <thead>\n",
       "    <tr style=\"text-align: right;\">\n",
       "      <th></th>\n",
       "      <th>Store</th>\n",
       "      <th>Dept</th>\n",
       "      <th>Weekly_Sales</th>\n",
       "      <th>Temperature</th>\n",
       "      <th>Fuel_Price</th>\n",
       "      <th>CPI</th>\n",
       "      <th>Unemployment</th>\n",
       "      <th>IsHoliday</th>\n",
       "      <th>Size</th>\n",
       "      <th>Holiday</th>\n",
       "    </tr>\n",
       "  </thead>\n",
       "  <tbody>\n",
       "    <tr>\n",
       "      <th>Store</th>\n",
       "      <td>163.463829</td>\n",
       "      <td>9.357829</td>\n",
       "      <td>-2.473800e+04</td>\n",
       "      <td>-11.815980</td>\n",
       "      <td>0.382747</td>\n",
       "      <td>-105.683840</td>\n",
       "      <td>4.968284</td>\n",
       "      <td>-0.001792</td>\n",
       "      <td>-1.425844e+05</td>\n",
       "      <td>-0.001792</td>\n",
       "    </tr>\n",
       "    <tr>\n",
       "      <th>Dept</th>\n",
       "      <td>9.357829</td>\n",
       "      <td>929.765358</td>\n",
       "      <td>1.025138e+05</td>\n",
       "      <td>2.495613</td>\n",
       "      <td>0.049940</td>\n",
       "      <td>-8.928349</td>\n",
       "      <td>0.445252</td>\n",
       "      <td>0.007144</td>\n",
       "      <td>-5.515902e+03</td>\n",
       "      <td>0.007144</td>\n",
       "    </tr>\n",
       "    <tr>\n",
       "      <th>Weekly_Sales</th>\n",
       "      <td>-24738.004636</td>\n",
       "      <td>102513.775825</td>\n",
       "      <td>5.157979e+08</td>\n",
       "      <td>-968.855983</td>\n",
       "      <td>-1.252687</td>\n",
       "      <td>-18606.462689</td>\n",
       "      <td>-1094.491917</td>\n",
       "      <td>74.197710</td>\n",
       "      <td>3.376874e+08</td>\n",
       "      <td>74.197710</td>\n",
       "    </tr>\n",
       "    <tr>\n",
       "      <th>Temperature</th>\n",
       "      <td>-11.815980</td>\n",
       "      <td>2.495613</td>\n",
       "      <td>-9.688560e+02</td>\n",
       "      <td>340.326164</td>\n",
       "      <td>1.216851</td>\n",
       "      <td>131.558813</td>\n",
       "      <td>3.324999</td>\n",
       "      <td>-0.735776</td>\n",
       "      <td>-6.560005e+04</td>\n",
       "      <td>-0.735776</td>\n",
       "    </tr>\n",
       "    <tr>\n",
       "      <th>Fuel_Price</th>\n",
       "      <td>0.382747</td>\n",
       "      <td>0.049940</td>\n",
       "      <td>-1.252687e+00</td>\n",
       "      <td>1.216851</td>\n",
       "      <td>0.210236</td>\n",
       "      <td>-2.948414</td>\n",
       "      <td>-0.028922</td>\n",
       "      <td>-0.009180</td>\n",
       "      <td>9.398049e+01</td>\n",
       "      <td>-0.009180</td>\n",
       "    </tr>\n",
       "    <tr>\n",
       "      <th>CPI</th>\n",
       "      <td>-105.683840</td>\n",
       "      <td>-8.928349</td>\n",
       "      <td>-1.860646e+04</td>\n",
       "      <td>131.558813</td>\n",
       "      <td>-2.948414</td>\n",
       "      <td>1533.448867</td>\n",
       "      <td>-21.886169</td>\n",
       "      <td>-0.019464</td>\n",
       "      <td>-7.914538e+03</td>\n",
       "      <td>-0.019464</td>\n",
       "    </tr>\n",
       "    <tr>\n",
       "      <th>Unemployment</th>\n",
       "      <td>4.968284</td>\n",
       "      <td>0.445252</td>\n",
       "      <td>-1.094492e+03</td>\n",
       "      <td>3.324999</td>\n",
       "      <td>-0.028922</td>\n",
       "      <td>-21.886169</td>\n",
       "      <td>3.471872</td>\n",
       "      <td>0.004984</td>\n",
       "      <td>-7.753563e+03</td>\n",
       "      <td>0.004984</td>\n",
       "    </tr>\n",
       "    <tr>\n",
       "      <th>IsHoliday</th>\n",
       "      <td>-0.001792</td>\n",
       "      <td>0.007144</td>\n",
       "      <td>7.419771e+01</td>\n",
       "      <td>-0.735776</td>\n",
       "      <td>-0.009180</td>\n",
       "      <td>-0.019464</td>\n",
       "      <td>0.004984</td>\n",
       "      <td>0.065408</td>\n",
       "      <td>9.248907e+00</td>\n",
       "      <td>0.065408</td>\n",
       "    </tr>\n",
       "    <tr>\n",
       "      <th>Size</th>\n",
       "      <td>-142584.425165</td>\n",
       "      <td>-5515.902194</td>\n",
       "      <td>3.376874e+08</td>\n",
       "      <td>-65600.051634</td>\n",
       "      <td>93.980492</td>\n",
       "      <td>-7914.538190</td>\n",
       "      <td>-7753.563346</td>\n",
       "      <td>9.248907</td>\n",
       "      <td>3.718632e+09</td>\n",
       "      <td>9.248907</td>\n",
       "    </tr>\n",
       "    <tr>\n",
       "      <th>Holiday</th>\n",
       "      <td>-0.001792</td>\n",
       "      <td>0.007144</td>\n",
       "      <td>7.419771e+01</td>\n",
       "      <td>-0.735776</td>\n",
       "      <td>-0.009180</td>\n",
       "      <td>-0.019464</td>\n",
       "      <td>0.004984</td>\n",
       "      <td>0.065408</td>\n",
       "      <td>9.248907e+00</td>\n",
       "      <td>0.065408</td>\n",
       "    </tr>\n",
       "  </tbody>\n",
       "</table>\n",
       "</div>"
      ],
      "text/plain": [
       "                      Store           Dept  Weekly_Sales   Temperature  \\\n",
       "Store            163.463829       9.357829 -2.473800e+04    -11.815980   \n",
       "Dept               9.357829     929.765358  1.025138e+05      2.495613   \n",
       "Weekly_Sales  -24738.004636  102513.775825  5.157979e+08   -968.855983   \n",
       "Temperature      -11.815980       2.495613 -9.688560e+02    340.326164   \n",
       "Fuel_Price         0.382747       0.049940 -1.252687e+00      1.216851   \n",
       "CPI             -105.683840      -8.928349 -1.860646e+04    131.558813   \n",
       "Unemployment       4.968284       0.445252 -1.094492e+03      3.324999   \n",
       "IsHoliday         -0.001792       0.007144  7.419771e+01     -0.735776   \n",
       "Size         -142584.425165   -5515.902194  3.376874e+08 -65600.051634   \n",
       "Holiday           -0.001792       0.007144  7.419771e+01     -0.735776   \n",
       "\n",
       "              Fuel_Price           CPI  Unemployment  IsHoliday          Size  \\\n",
       "Store           0.382747   -105.683840      4.968284  -0.001792 -1.425844e+05   \n",
       "Dept            0.049940     -8.928349      0.445252   0.007144 -5.515902e+03   \n",
       "Weekly_Sales   -1.252687 -18606.462689  -1094.491917  74.197710  3.376874e+08   \n",
       "Temperature     1.216851    131.558813      3.324999  -0.735776 -6.560005e+04   \n",
       "Fuel_Price      0.210236     -2.948414     -0.028922  -0.009180  9.398049e+01   \n",
       "CPI            -2.948414   1533.448867    -21.886169  -0.019464 -7.914538e+03   \n",
       "Unemployment   -0.028922    -21.886169      3.471872   0.004984 -7.753563e+03   \n",
       "IsHoliday      -0.009180     -0.019464      0.004984   0.065408  9.248907e+00   \n",
       "Size           93.980492  -7914.538190  -7753.563346   9.248907  3.718632e+09   \n",
       "Holiday        -0.009180     -0.019464      0.004984   0.065408  9.248907e+00   \n",
       "\n",
       "                Holiday  \n",
       "Store         -0.001792  \n",
       "Dept           0.007144  \n",
       "Weekly_Sales  74.197710  \n",
       "Temperature   -0.735776  \n",
       "Fuel_Price    -0.009180  \n",
       "CPI           -0.019464  \n",
       "Unemployment   0.004984  \n",
       "IsHoliday      0.065408  \n",
       "Size           9.248907  \n",
       "Holiday        0.065408  "
      ]
     },
     "execution_count": 37,
     "metadata": {},
     "output_type": "execute_result"
    }
   ],
   "source": [
    "data.cov()"
   ]
  },
  {
   "cell_type": "markdown",
   "id": "c471c12d",
   "metadata": {},
   "source": [
    "## Standard Deviation\n",
    "- A quantity expressing by how much the members of group differ from the mean value for group.\n",
    "- The standard deviation is used in conjuction with the mean to summarise continous data,not categorical data"
   ]
  },
  {
   "cell_type": "code",
   "execution_count": 38,
   "id": "1c253c11",
   "metadata": {},
   "outputs": [
    {
     "data": {
      "text/plain": [
       "Store              12.785297\n",
       "Dept               30.492054\n",
       "Weekly_Sales    22711.183519\n",
       "Temperature        18.447931\n",
       "Fuel_Price          0.458515\n",
       "CPI                39.159276\n",
       "Unemployment        1.863296\n",
       "IsHoliday           0.255750\n",
       "Size            60980.583328\n",
       "Holiday             0.255750\n",
       "dtype: float64"
      ]
     },
     "execution_count": 38,
     "metadata": {},
     "output_type": "execute_result"
    }
   ],
   "source": [
    "data.std()"
   ]
  },
  {
   "cell_type": "markdown",
   "id": "9a4e62bb",
   "metadata": {},
   "source": [
    "## Problem Statement\n",
    "- Sales according to Store Types"
   ]
  },
  {
   "cell_type": "markdown",
   "id": "dac7ad7c",
   "metadata": {},
   "source": [
    "# Box plot "
   ]
  },
  {
   "cell_type": "code",
   "execution_count": 39,
   "id": "6e39705b",
   "metadata": {},
   "outputs": [
    {
     "data": {
      "image/png": "[encoded data removed]",
      "text/plain": [
       "<Figure size 432x288 with 1 Axes>"
      ]
     },
     "metadata": {
      "needs_background": "light"
     },
     "output_type": "display_data"
    }
   ],
   "source": [
    "sns.boxplot(x='Type',y='Weekly_Sales',data=data)\n",
    "plt.show()"
   ]
  },
  {
   "cell_type": "markdown",
   "id": "4250bbd1",
   "metadata": {},
   "source": [
    "#### Obsevation= There is trace of outliers which can be removed in data processing"
   ]
  },
  {
   "cell_type": "markdown",
   "id": "32923342",
   "metadata": {},
   "source": [
    "## Problem Statement\n",
    "Store distribution according to Type"
   ]
  },
  {
   "cell_type": "markdown",
   "id": "8bef9b99",
   "metadata": {},
   "source": [
    "# Pie Chart "
   ]
  },
  {
   "cell_type": "code",
   "execution_count": 40,
   "id": "bfa33c06",
   "metadata": {},
   "outputs": [
    {
     "data": {
      "image/png": "[encoded data removed]",
      "text/plain": [
       "<Figure size 720x576 with 1 Axes>"
      ]
     },
     "metadata": {},
     "output_type": "display_data"
    }
   ],
   "source": [
    "plt.figure(figsize=(10,8))\n",
    "plt.title('Type of store',fontsize=20)\n",
    "data['Type'].value_counts().plot.pie(autopct='%1.1f%%',shadow=True,colors=['pink','cyan','orange'],fontsize=20)\n",
    "plt.show()"
   ]
  },
  {
   "cell_type": "markdown",
   "id": "531bf14d",
   "metadata": {},
   "source": [
    "#### Observation=Store wise distribution of weekly sales\n",
    "- store type A has highest sale among other two store type"
   ]
  },
  {
   "cell_type": "markdown",
   "id": "ecea9c4a",
   "metadata": {},
   "source": [
    "## Problem Statement\n",
    "Sales based on weekdays and Holidays"
   ]
  },
  {
   "cell_type": "code",
   "execution_count": 41,
   "id": "4090a4d0",
   "metadata": {},
   "outputs": [
    {
     "data": {
      "image/png": "[encoded data removed]",
      "text/plain": [
       "<Figure size 576x576 with 1 Axes>"
      ]
     },
     "metadata": {},
     "output_type": "display_data"
    }
   ],
   "source": [
    "plt.figure(figsize=(8,8))\n",
    "plt.pie(data['IsHoliday'].value_counts(),labels=['Holidays','Weekdays'],autopct='%0.2f%%')\n",
    "plt.title(\"Pie chart distribution\",fontsize=14)\n",
    "plt.legend()\n",
    "plt.show()"
   ]
  },
  {
   "cell_type": "markdown",
   "id": "cbf5e99e",
   "metadata": {},
   "source": [
    "#### Observation= Sales on Weekdays and Holidays\n",
    "- Maximum sales are on Holidays"
   ]
  },
  {
   "cell_type": "markdown",
   "id": "db846ea2",
   "metadata": {},
   "source": [
    "# Count Plot"
   ]
  },
  {
   "cell_type": "code",
   "execution_count": 42,
   "id": "f594ff36",
   "metadata": {},
   "outputs": [
    {
     "data": {
      "image/png": "[encoded data removed]",
      "text/plain": [
       "<Figure size 720x648 with 1 Axes>"
      ]
     },
     "metadata": {
      "needs_background": "light"
     },
     "output_type": "display_data"
    }
   ],
   "source": [
    "plt.figure(figsize=(10,9))\n",
    "sns.countplot(x=\"Type\", data=data,palette='coolwarm')\n",
    "plt.show()"
   ]
  },
  {
   "cell_type": "markdown",
   "id": "b2436ef0",
   "metadata": {},
   "source": [
    "#### Observation=Store wise distribution of weekly sales\n",
    "- In countplot store type A has highest sale among other two store type"
   ]
  },
  {
   "cell_type": "markdown",
   "id": "9c93e961",
   "metadata": {},
   "source": [
    "## Problem Statement\n",
    "- Storewise Weekly Analysis of Sales"
   ]
  },
  {
   "cell_type": "markdown",
   "id": "2f0d16f7",
   "metadata": {},
   "source": [
    "# Barplot"
   ]
  },
  {
   "cell_type": "code",
   "execution_count": 43,
   "id": "32ef8fed",
   "metadata": {},
   "outputs": [
    {
     "data": {
      "image/png": "[encoded data removed]",
      "text/plain": [
       "<Figure size 1440x576 with 1 Axes>"
      ]
     },
     "metadata": {
      "needs_background": "light"
     },
     "output_type": "display_data"
    }
   ],
   "source": [
    "plt.figure(figsize=(20,8))\n",
    "sns.barplot(x='Store',y='Weekly_Sales',data=data)\n",
    "plt.ylabel('Sales',fontsize=14)\n",
    "plt.xlabel('Store',fontsize=14)\n",
    "plt.title('Storewise Average Weekly Sales',fontsize=16)\n",
    "plt.grid()\n",
    "plt.show() "
   ]
  },
  {
   "cell_type": "markdown",
   "id": "ee46a8e8",
   "metadata": {},
   "source": [
    "#### Observation= Storewise average weekly sales\n",
    "- Store no 20 has highest Sales according to barplot"
   ]
  },
  {
   "cell_type": "markdown",
   "id": "a03ed858",
   "metadata": {},
   "source": [
    "## Problem Statement\n",
    "- Sales according to weather"
   ]
  },
  {
   "cell_type": "markdown",
   "id": "c13af6aa",
   "metadata": {},
   "source": [
    "# Dist Plot"
   ]
  },
  {
   "cell_type": "code",
   "execution_count": 44,
   "id": "ef093d88",
   "metadata": {},
   "outputs": [
    {
     "data": {
      "image/png": "[encoded data removed]",
      "text/plain": [
       "<Figure size 720x576 with 1 Axes>"
      ]
     },
     "metadata": {
      "needs_background": "light"
     },
     "output_type": "display_data"
    }
   ],
   "source": [
    "plt.figure(figsize=(10,8))\n",
    "sns.distplot(data['Temperature'],color='red')\n",
    "plt.title('Effect of Temperature',fontsize=15)\n",
    "plt.xlabel('Temperature',fontsize=14)\n",
    "plt.ylabel('Density',fontsize=14)\n",
    "plt.show()"
   ]
  },
  {
   "cell_type": "markdown",
   "id": "c5663b0d",
   "metadata": {},
   "source": [
    "Observation= Effect of Temperature on Sales"
   ]
  },
  {
   "cell_type": "markdown",
   "id": "b80e7c6e",
   "metadata": {},
   "source": [
    "## Data Splitted into Training, Validation, Test"
   ]
  },
  {
   "cell_type": "code",
   "execution_count": 45,
   "id": "acd790fe",
   "metadata": {},
   "outputs": [],
   "source": [
    "from sklearn import metrics\n",
    "from sklearn.model_selection import train_test_split \n",
    "from sklearn.linear_model import LinearRegression\n",
    "from sklearn.ensemble import RandomForestRegressor\n",
    "from sklearn.neighbors import KNeighborsRegressor\n",
    "\n"
   ]
  },
  {
   "cell_type": "code",
   "execution_count": 46,
   "id": "774c6410",
   "metadata": {},
   "outputs": [],
   "source": [
    "data.Type.replace({'A':0,'B':1,'C':2},inplace=True)"
   ]
  },
  {
   "cell_type": "code",
   "execution_count": 47,
   "id": "7f2d99bf",
   "metadata": {},
   "outputs": [],
   "source": [
    "X = data.drop(['Weekly_Sales'],axis=1)\n",
    "y = data.Weekly_Sales"
   ]
  },
  {
   "cell_type": "code",
   "execution_count": 48,
   "id": "bffc1232",
   "metadata": {},
   "outputs": [],
   "source": [
    "X_train,X_test,y_train,y_test = train_test_split(X,y,test_size=0.20, random_state=1)"
   ]
  },
  {
   "cell_type": "code",
   "execution_count": 49,
   "id": "0e351a0d",
   "metadata": {},
   "outputs": [
    {
     "data": {
      "text/plain": [
       "Index(['Store', 'Dept', 'Weekly_Sales', 'Temperature', 'Fuel_Price', 'CPI',\n",
       "       'Unemployment', 'IsHoliday', 'Type', 'Size', 'Holiday'],\n",
       "      dtype='object')"
      ]
     },
     "execution_count": 49,
     "metadata": {},
     "output_type": "execute_result"
    }
   ],
   "source": [
    "data.columns"
   ]
  },
  {
   "cell_type": "markdown",
   "id": "fa17b5d0",
   "metadata": {},
   "source": [
    "## Decision Tree Regressor Model"
   ]
  },
  {
   "cell_type": "code",
   "execution_count": 50,
   "id": "fb6cd971",
   "metadata": {},
   "outputs": [],
   "source": [
    "from sklearn.tree import DecisionTreeRegressor"
   ]
  },
  {
   "cell_type": "code",
   "execution_count": 51,
   "id": "d0fedc1e",
   "metadata": {},
   "outputs": [],
   "source": [
    "model_DT = DecisionTreeRegressor()"
   ]
  },
  {
   "cell_type": "code",
   "execution_count": 52,
   "id": "18ede67c",
   "metadata": {},
   "outputs": [
    {
     "data": {
      "text/plain": [
       "DecisionTreeRegressor()"
      ]
     },
     "execution_count": 52,
     "metadata": {},
     "output_type": "execute_result"
    }
   ],
   "source": [
    "model_DT\n"
   ]
  },
  {
   "cell_type": "code",
   "execution_count": 53,
   "id": "f47f7423",
   "metadata": {},
   "outputs": [
    {
     "data": {
      "text/plain": [
       "DecisionTreeRegressor()"
      ]
     },
     "execution_count": 53,
     "metadata": {},
     "output_type": "execute_result"
    }
   ],
   "source": [
    "model_DT.fit(X_train, y_train)"
   ]
  },
  {
   "cell_type": "code",
   "execution_count": 54,
   "id": "d58a9365",
   "metadata": {},
   "outputs": [
    {
     "data": {
      "text/plain": [
       "89.35276487632198"
      ]
     },
     "execution_count": 54,
     "metadata": {},
     "output_type": "execute_result"
    }
   ],
   "source": [
    "BDT=model_DT.score(X_test, y_test)*100\n",
    "BDT"
   ]
  },
  {
   "cell_type": "markdown",
   "id": "3346c2a3",
   "metadata": {},
   "source": [
    "Decision Tree Regressor gives us 89% of Accuracy."
   ]
  },
  {
   "cell_type": "markdown",
   "id": "8f2d9abc",
   "metadata": {},
   "source": [
    "# Random Forest Regressor Model"
   ]
  },
  {
   "cell_type": "code",
   "execution_count": 55,
   "id": "4863260c",
   "metadata": {},
   "outputs": [],
   "source": [
    " from sklearn.ensemble import RandomForestRegressor"
   ]
  },
  {
   "cell_type": "code",
   "execution_count": 56,
   "id": "601808c0",
   "metadata": {},
   "outputs": [],
   "source": [
    "model_RFR = RandomForestRegressor()"
   ]
  },
  {
   "cell_type": "code",
   "execution_count": 57,
   "id": "cd8bf1b3",
   "metadata": {},
   "outputs": [
    {
     "data": {
      "text/plain": [
       "RandomForestRegressor()"
      ]
     },
     "execution_count": 57,
     "metadata": {},
     "output_type": "execute_result"
    }
   ],
   "source": [
    "model_RFR\n"
   ]
  },
  {
   "cell_type": "code",
   "execution_count": 58,
   "id": "d491929b",
   "metadata": {},
   "outputs": [
    {
     "data": {
      "text/plain": [
       "RandomForestRegressor()"
      ]
     },
     "execution_count": 58,
     "metadata": {},
     "output_type": "execute_result"
    }
   ],
   "source": [
    "model_RFR.fit(X_train,y_train)\n"
   ]
  },
  {
   "cell_type": "code",
   "execution_count": 59,
   "id": "eb6a553f",
   "metadata": {},
   "outputs": [
    {
     "data": {
      "text/plain": [
       "94.34931683764293"
      ]
     },
     "execution_count": 59,
     "metadata": {},
     "output_type": "execute_result"
    }
   ],
   "source": [
    "RFR =model_RFR.score(X_test, y_test)*100\n",
    "RFR"
   ]
  },
  {
   "cell_type": "markdown",
   "id": "a8e85bc3",
   "metadata": {},
   "source": [
    "Random Forest Regressor gives us 94% of Accuracy"
   ]
  },
  {
   "cell_type": "markdown",
   "id": "9ec6ceee",
   "metadata": {},
   "source": [
    "## XGBoost Model"
   ]
  },
  {
   "cell_type": "code",
   "execution_count": 60,
   "id": "674a6c43",
   "metadata": {},
   "outputs": [],
   "source": [
    "import xgboost as xgb"
   ]
  },
  {
   "cell_type": "code",
   "execution_count": 61,
   "id": "083e219f",
   "metadata": {},
   "outputs": [],
   "source": [
    "model_xgb = xgb.XGBRegressor()"
   ]
  },
  {
   "cell_type": "code",
   "execution_count": 62,
   "id": "e8f1c179",
   "metadata": {},
   "outputs": [
    {
     "data": {
      "text/plain": [
       "XGBRegressor(base_score=None, booster=None, callbacks=None,\n",
       "             colsample_bylevel=None, colsample_bynode=None,\n",
       "             colsample_bytree=None, early_stopping_rounds=None,\n",
       "             enable_categorical=False, eval_metric=None, feature_types=None,\n",
       "             gamma=None, gpu_id=None, grow_policy=None, importance_type=None,\n",
       "             interaction_constraints=None, learning_rate=None, max_bin=None,\n",
       "             max_cat_threshold=None, max_cat_to_onehot=None,\n",
       "             max_delta_step=None, max_depth=None, max_leaves=None,\n",
       "             min_child_weight=None, missing=nan, monotone_constraints=None,\n",
       "             n_estimators=100, n_jobs=None, num_parallel_tree=None,\n",
       "             predictor=None, random_state=None, ...)"
      ]
     },
     "execution_count": 62,
     "metadata": {},
     "output_type": "execute_result"
    }
   ],
   "source": [
    "model_xgb"
   ]
  },
  {
   "cell_type": "code",
   "execution_count": 63,
   "id": "03b525c4",
   "metadata": {},
   "outputs": [
    {
     "data": {
      "text/plain": [
       "XGBRegressor(base_score=0.5, booster='gbtree', callbacks=None,\n",
       "             colsample_bylevel=1, colsample_bynode=1, colsample_bytree=1,\n",
       "             early_stopping_rounds=None, enable_categorical=False,\n",
       "             eval_metric=None, feature_types=None, gamma=0, gpu_id=-1,\n",
       "             grow_policy='depthwise', importance_type=None,\n",
       "             interaction_constraints='', learning_rate=0.300000012, max_bin=256,\n",
       "             max_cat_threshold=64, max_cat_to_onehot=4, max_delta_step=0,\n",
       "             max_depth=6, max_leaves=0, min_child_weight=1, missing=nan,\n",
       "             monotone_constraints='()', n_estimators=100, n_jobs=0,\n",
       "             num_parallel_tree=1, predictor='auto', random_state=0, ...)"
      ]
     },
     "execution_count": 63,
     "metadata": {},
     "output_type": "execute_result"
    }
   ],
   "source": [
    "model_xgb.fit(X_train, y_train)\n"
   ]
  },
  {
   "cell_type": "code",
   "execution_count": 64,
   "id": "448fe2c7",
   "metadata": {},
   "outputs": [],
   "source": [
    "xgb = model_xgb.score(X_test, y_test)*100"
   ]
  },
  {
   "cell_type": "code",
   "execution_count": 65,
   "id": "883db19d",
   "metadata": {},
   "outputs": [
    {
     "data": {
      "text/plain": [
       "91.68118105991944"
      ]
     },
     "execution_count": 65,
     "metadata": {},
     "output_type": "execute_result"
    }
   ],
   "source": [
    "xgb"
   ]
  },
  {
   "cell_type": "markdown",
   "id": "ed2c9337",
   "metadata": {},
   "source": [
    "XGBoost Regressor gives us 91% of Accuracy.\n"
   ]
  },
  {
   "cell_type": "markdown",
   "id": "70347d68",
   "metadata": {},
   "source": [
    "# K Neighbors Regressor Model"
   ]
  },
  {
   "cell_type": "code",
   "execution_count": 66,
   "id": "dc5e7768",
   "metadata": {},
   "outputs": [],
   "source": [
    "from sklearn.neighbors import KNeighborsClassifier"
   ]
  },
  {
   "cell_type": "code",
   "execution_count": 67,
   "id": "57ff0681",
   "metadata": {},
   "outputs": [],
   "source": [
    "knn = KNeighborsRegressor(weights = 'uniform')\n",
    "     "
   ]
  },
  {
   "cell_type": "code",
   "execution_count": 68,
   "id": "a3af6620",
   "metadata": {},
   "outputs": [],
   "source": [
    "model_knn=knn.fit(X_train,y_train)"
   ]
  },
  {
   "cell_type": "code",
   "execution_count": 69,
   "id": "0cf3b3b7",
   "metadata": {},
   "outputs": [
    {
     "name": "stdout",
     "output_type": "stream",
     "text": [
      "KNeigbhbors Regressor Accuracy -  59.24557905010239\n"
     ]
    }
   ],
   "source": [
    "knn_acc = knn.score(X_test, y_test)*100\n",
    "print(\"KNeigbhbors Regressor Accuracy - \",knn_acc)\n",
    "     "
   ]
  },
  {
   "cell_type": "markdown",
   "id": "54598e0c",
   "metadata": {},
   "source": [
    " KNeigbhbors Regressor gives Accuracy 59%"
   ]
  },
  {
   "cell_type": "markdown",
   "id": "734742d2",
   "metadata": {},
   "source": [
    "## Machine Learning Model Comparison"
   ]
  },
  {
   "cell_type": "code",
   "execution_count": 70,
   "id": "cc243ab5",
   "metadata": {},
   "outputs": [],
   "source": [
    "Models = pd.DataFrame({'Model': [ 'Decision Tree', \n",
    " 'Random Forest','XGBoost','KNN'], \n",
    " 'Accuracy': [BDT, RFR, xgb , knn_acc]})"
   ]
  },
  {
   "cell_type": "code",
   "execution_count": 71,
   "id": "7af03d05",
   "metadata": {},
   "outputs": [
    {
     "data": {
      "text/html": [
       "<div>\n",
       "<style scoped>\n",
       "    .dataframe tbody tr th:only-of-type {\n",
       "        vertical-align: middle;\n",
       "    }\n",
       "\n",
       "    .dataframe tbody tr th {\n",
       "        vertical-align: top;\n",
       "    }\n",
       "\n",
       "    .dataframe thead th {\n",
       "        text-align: right;\n",
       "    }\n",
       "</style>\n",
       "<table border=\"1\" class=\"dataframe\">\n",
       "  <thead>\n",
       "    <tr style=\"text-align: right;\">\n",
       "      <th></th>\n",
       "      <th>Model</th>\n",
       "      <th>Accuracy</th>\n",
       "    </tr>\n",
       "  </thead>\n",
       "  <tbody>\n",
       "    <tr>\n",
       "      <th>0</th>\n",
       "      <td>Decision Tree</td>\n",
       "      <td>89.352765</td>\n",
       "    </tr>\n",
       "    <tr>\n",
       "      <th>1</th>\n",
       "      <td>Random Forest</td>\n",
       "      <td>94.349317</td>\n",
       "    </tr>\n",
       "    <tr>\n",
       "      <th>2</th>\n",
       "      <td>XGBoost</td>\n",
       "      <td>91.681181</td>\n",
       "    </tr>\n",
       "    <tr>\n",
       "      <th>3</th>\n",
       "      <td>KNN</td>\n",
       "      <td>59.245579</td>\n",
       "    </tr>\n",
       "  </tbody>\n",
       "</table>\n",
       "</div>"
      ],
      "text/plain": [
       "           Model   Accuracy\n",
       "0  Decision Tree  89.352765\n",
       "1  Random Forest  94.349317\n",
       "2        XGBoost  91.681181\n",
       "3            KNN  59.245579"
      ]
     },
     "execution_count": 71,
     "metadata": {},
     "output_type": "execute_result"
    }
   ],
   "source": [
    "Models"
   ]
  },
  {
   "cell_type": "code",
   "execution_count": 72,
   "id": "f3bb9c57",
   "metadata": {},
   "outputs": [
    {
     "data": {
      "image/png": "[encoded data removed]",
      "text/plain": [
       "<Figure size 720x576 with 1 Axes>"
      ]
     },
     "metadata": {
      "needs_background": "light"
     },
     "output_type": "display_data"
    }
   ],
   "source": [
    "plt.figure(figsize=(10,8))\n",
    "sns.barplot(x='Model',y='Accuracy',data=Models,palette='rocket')\n",
    "plt.xlabel('Accuracy of Models', fontsize =15)\n",
    "plt.show()\n",
    "     "
   ]
  },
  {
   "cell_type": "markdown",
   "id": "9380cec7",
   "metadata": {},
   "source": [
    "# Dataset features\n",
    "- Store = Continious Datatype\n",
    "- Dept =  Continious Datatype\n",
    "- Weekly_Sales =  Continious Datatype\n",
    "- Temperature =  Continious Datatype\n",
    "- Fuel_Price = Discrete Datatype\n",
    "- CPI = Odinal Datatype\n",
    "- Unemployment = Odinal Datatype\n",
    "- IsHoliday =  Discrete Datatype\n",
    "- Type = Odinal Datatype\n",
    "- Size =  Continious Datatype\n",
    "- Holiday = Binary Datatype"
   ]
  },
  {
   "cell_type": "markdown",
   "id": "d9915116",
   "metadata": {},
   "source": [
    "# Predictor"
   ]
  },
  {
   "cell_type": "code",
   "execution_count": 73,
   "id": "6e513212",
   "metadata": {},
   "outputs": [],
   "source": [
    "y_predict=model_RFR.predict(X_test)"
   ]
  },
  {
   "cell_type": "code",
   "execution_count": 74,
   "id": "e0912a93",
   "metadata": {},
   "outputs": [
    {
     "data": {
      "text/plain": [
       "array([ 5855.794 , 58062.9328,  3405.9658, ..., 12411.2243,   310.8452,\n",
       "       24509.45  ])"
      ]
     },
     "execution_count": 74,
     "metadata": {},
     "output_type": "execute_result"
    }
   ],
   "source": [
    "y_predict"
   ]
  },
  {
   "cell_type": "markdown",
   "id": "80d42a43",
   "metadata": {},
   "source": [
    "# 1)Inputs\n",
    "- Store = 33\n",
    "- Dept =  12\n",
    "- Temperature = 50 degree celcius\n",
    "- Fuel_Price = 4\n",
    "- CPI = 190\n",
    "- Unemployment =8\n",
    "- IsHoliday =  True\n",
    "- Type = B(1)\n",
    "- Size = 60000\n",
    "- Holiday = True(1)"
   ]
  },
  {
   "cell_type": "code",
   "execution_count": 75,
   "id": "50b05b99",
   "metadata": {},
   "outputs": [
    {
     "data": {
      "text/plain": [
       "array([5564.3136])"
      ]
     },
     "execution_count": 75,
     "metadata": {},
     "output_type": "execute_result"
    }
   ],
   "source": [
    "model_RFR.predict([[33,12,50,4,190,8,True,1,60000,1]])"
   ]
  },
  {
   "cell_type": "markdown",
   "id": "c54617ef",
   "metadata": {},
   "source": [
    "Observation= Predicted Weekly Sales by our Machine Learning Model is 5519.526 by the following input"
   ]
  },
  {
   "cell_type": "markdown",
   "id": "7537931a",
   "metadata": {},
   "source": [
    "# 2)Output"
   ]
  },
  {
   "cell_type": "markdown",
   "id": "9eee2b09",
   "metadata": {},
   "source": [
    "- Weekly Sales"
   ]
  },
  {
   "cell_type": "markdown",
   "id": "10e08066",
   "metadata": {},
   "source": [
    "# Conclusion"
   ]
  },
  {
   "cell_type": "markdown",
   "id": "9af33d16",
   "metadata": {},
   "source": [
    "- Following inferences and conclusions can be drawn from the the analysis of the data:\n",
    "\n",
    "- Type 'A' stores are more popular than 'B' and 'C' types.\n",
    "\n",
    "- Type 'A' stores outclass the 'B' and 'C' types in terms of size and the avergae weekly sales.\n",
    "\n",
    "- Weekly Sales are affected by the week of year. Holiday weeks witnessed more sales than the non-holiday weeks. Notables are Thanksgiving and Christmas weeks.\n",
    "\n",
    "- Size of the store is a major contributing factor in the weekly sales.\n",
    "\n",
    "- Sales are also dependent on the department of the store as different departments showed different levels of weekly sales.\n",
    "\n",
    "- Among the trained models for predicting the future sales, Random Forest Machine with tuned hyperparameters performs the best."
   ]
  }
 ],
 "metadata": {
  "kernelspec": {
   "display_name": "Python 3 (ipykernel)",
   "language": "python",
   "name": "python3"
  },
  "language_info": {
   "codemirror_mode": {
    "name": "ipython",
    "version": 3
   },
   "file_extension": ".py",
   "mimetype": "text/x-python",
   "name": "python",
   "nbconvert_exporter": "python",
   "pygments_lexer": "ipython3",
   "version": "3.9.12"
  }
 },
 "nbformat": 4,
 "nbformat_minor": 5
}
